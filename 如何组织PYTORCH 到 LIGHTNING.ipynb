{
 "cells": [
  {
   "cell_type": "code",
   "execution_count": 1,
   "id": "large-penalty",
   "metadata": {},
   "outputs": [
    {
     "name": "stdout",
     "output_type": "stream",
     "text": [
      "time: 449 ms (started: 2021-08-28 16:19:45 +08:00)\n"
     ]
    }
   ],
   "source": [
    "# 自动计算cell的计算时间\n",
    "%load_ext autotime\n",
    "\n",
    "%matplotlib inline\n",
    "%config InlineBackend.figure_format='svg' #矢量图设置，让绘图更清晰"
   ]
  },
  {
   "cell_type": "code",
   "execution_count": 3,
   "id": "confidential-employer",
   "metadata": {},
   "outputs": [
    {
     "name": "stdout",
     "output_type": "stream",
     "text": [
      "origin\tgit@github.com:ustchope/pytorch_lightning_study.git (fetch)\n",
      "origin\tgit@github.com:ustchope/pytorch_lightning_study.git (push)\n",
      "[main c5f194e] 更新 #2 Aug 28, 2021\n",
      " 2 files changed, 1287 insertions(+), 2 deletions(-)\n",
      " create mode 100644 \"\\345\\246\\202\\344\\275\\225\\347\\273\\204\\347\\273\\207PYTORCH \\345\\210\\260 LIGHTNING.ipynb\"\n"
     ]
    },
    {
     "name": "stderr",
     "output_type": "stream",
     "text": [
      "To git@github.com:ustchope/pytorch_lightning_study.git\n",
      "   944aae4..c5f194e  main -> main\n"
     ]
    },
    {
     "name": "stdout",
     "output_type": "stream",
     "text": [
      "time: 4.01 s (started: 2021-08-28 16:17:23 +08:00)\n"
     ]
    }
   ],
   "source": [
    "%%bash\n",
    "\n",
    "# 增加更新\n",
    "git add *.ipynb *.md\n",
    "\n",
    "git remote -v\n",
    "\n",
    "git commit -m '更新 #2 Aug 28, 2021'\n",
    "\n",
    "#git push origin master\n",
    "git push"
   ]
  },
  {
   "cell_type": "markdown",
   "id": "insured-display",
   "metadata": {},
   "source": [
    "为了使您的代码能够与 Lightning 一起使用，以下是将 PyTorch 组织到 Lightning 中的方法"
   ]
  },
  {
   "cell_type": "code",
   "execution_count": 2,
   "id": "expanded-puzzle",
   "metadata": {},
   "outputs": [
    {
     "name": "stdout",
     "output_type": "stream",
     "text": [
      "time: 3.72 s (started: 2021-08-28 16:19:47 +08:00)\n"
     ]
    }
   ],
   "source": [
    "import os\n",
    "import torch\n",
    "from torch import nn\n",
    "import torch.nn.functional as F\n",
    "from torchvision import transforms\n",
    "from torchvision.datasets import MNIST\n",
    "from torch.utils.data import DataLoader, random_split\n",
    "import pytorch_lightning as pl"
   ]
  },
  {
   "cell_type": "markdown",
   "id": "proof-angola",
   "metadata": {},
   "source": [
    "# 移动你的计算代码"
   ]
  },
  {
   "cell_type": "markdown",
   "id": "patent-harvard",
   "metadata": {},
   "source": [
    "移动模型架构并forward到您的闪电模块。"
   ]
  },
  {
   "cell_type": "code",
   "execution_count": 4,
   "id": "pending-salmon",
   "metadata": {},
   "outputs": [
    {
     "name": "stdout",
     "output_type": "stream",
     "text": [
      "time: 1.26 ms (started: 2021-08-28 16:20:04 +08:00)\n"
     ]
    }
   ],
   "source": [
    "class LitModel(pl.LightningModule):\n",
    "    def __init__(self):\n",
    "        super().__init__()\n",
    "        self.layer_1 = nn.Linear(28 * 28, 128)\n",
    "        self.layer_2 = nn.Linear(128, 10)\n",
    "\n",
    "    def forward(self, x):\n",
    "        x = x.view(x.size(0), -1)\n",
    "        x = self.layer_1(x)\n",
    "        x = F.relu(x)\n",
    "        x = self.layer_2(x)\n",
    "        return x"
   ]
  },
  {
   "cell_type": "markdown",
   "id": "designing-operations",
   "metadata": {},
   "source": [
    "# 移动优化器和调度器"
   ]
  },
  {
   "cell_type": "markdown",
   "id": "anonymous-crime",
   "metadata": {},
   "source": [
    "将您的优化器移动到 configure_optimizers() 钩子。"
   ]
  },
  {
   "cell_type": "code",
   "execution_count": 6,
   "id": "tribal-vinyl",
   "metadata": {},
   "outputs": [
    {
     "name": "stdout",
     "output_type": "stream",
     "text": [
      "time: 602 µs (started: 2021-08-28 16:21:47 +08:00)\n"
     ]
    }
   ],
   "source": [
    "class LitModel(pl.LightningModule):\n",
    "    def configure_optimizers(self):\n",
    "        optimizer = torch.optim.Adam(self.parameters(), lr=1e-3)\n",
    "        return optimizer"
   ]
  },
  {
   "cell_type": "markdown",
   "id": "closing-alloy",
   "metadata": {},
   "source": [
    "# 找到训练循环“meat”\n",
    "\n",
    "Lightning 为您自动化了大部分训练，即 epoch 和批次迭代，您需要保留的只是训练步骤逻辑。 这应该进入 training_step() 钩子（确保在这种情况下使用钩子参数，batch 和 batch_idx）："
   ]
  },
  {
   "cell_type": "code",
   "execution_count": 5,
   "id": "contained-hypothetical",
   "metadata": {},
   "outputs": [
    {
     "name": "stdout",
     "output_type": "stream",
     "text": [
      "time: 979 µs (started: 2021-08-28 16:21:43 +08:00)\n"
     ]
    }
   ],
   "source": [
    "class LitModel(pl.LightningModule):\n",
    "    def training_step(self, batch, batch_idx):\n",
    "        x, y = batch\n",
    "        y_hat = self(x)\n",
    "        loss = F.cross_entropy(y_hat, y)\n",
    "        return loss"
   ]
  },
  {
   "cell_type": "markdown",
   "id": "homeless-electronics",
   "metadata": {},
   "source": [
    "# 找到 val 循环“meat”\n",
    "\n",
    "要添加（可选）验证循环，请向 validation_step() 钩子添加逻辑（确保在这种情况下使用钩子参数 batch 和 batch_idx）。"
   ]
  },
  {
   "cell_type": "code",
   "execution_count": 7,
   "id": "separate-celebrity",
   "metadata": {},
   "outputs": [
    {
     "name": "stdout",
     "output_type": "stream",
     "text": [
      "time: 954 µs (started: 2021-08-28 16:22:50 +08:00)\n"
     ]
    }
   ],
   "source": [
    "class LitModel(pl.LightningModule):\n",
    "    def validation_step(self, batch, batch_idx):\n",
    "        x, y = batch\n",
    "        y_hat = self(x)\n",
    "        val_loss = F.cross_entropy(y_hat, y)\n",
    "        return val_loss"
   ]
  },
  {
   "cell_type": "markdown",
   "id": "least-metallic",
   "metadata": {},
   "source": [
    "> 自动调用 model.eval() 和 torch.no_grad() 进行验证"
   ]
  },
  {
   "cell_type": "markdown",
   "id": "leading-failure",
   "metadata": {},
   "source": [
    "# 找到测试循环“meat”\n",
    "\n",
    "要添加（可选）测试循环，请向 test_step() 钩子添加逻辑（确保在这种情况下使用钩子参数，batch 和 batch_idx）。"
   ]
  },
  {
   "cell_type": "code",
   "execution_count": 9,
   "id": "alone-manner",
   "metadata": {},
   "outputs": [
    {
     "name": "stdout",
     "output_type": "stream",
     "text": [
      "time: 905 µs (started: 2021-08-28 16:23:55 +08:00)\n"
     ]
    }
   ],
   "source": [
    "class LitModel(pl.LightningModule):\n",
    "    def test_step(self, batch, batch_idx):\n",
    "        x, y = batch\n",
    "        y_hat = self(x)\n",
    "        loss = F.cross_entropy(y_hat, y)\n",
    "        return loss"
   ]
  },
  {
   "cell_type": "markdown",
   "id": "diverse-elizabeth",
   "metadata": {},
   "source": [
    "> 自动调用 model.eval() 和 torch.no_grad() 进行测试。"
   ]
  },
  {
   "cell_type": "markdown",
   "id": "liable-assessment",
   "metadata": {},
   "source": [
    "在您调用之前，不会使用测试循环。"
   ]
  },
  {
   "cell_type": "code",
   "execution_count": null,
   "id": "vietnamese-meter",
   "metadata": {},
   "outputs": [],
   "source": [
    "trainer.test()"
   ]
  },
  {
   "cell_type": "markdown",
   "id": "environmental-gilbert",
   "metadata": {},
   "source": [
    "> .test() 自动加载最佳检查点"
   ]
  },
  {
   "cell_type": "markdown",
   "id": "settled-brass",
   "metadata": {},
   "source": [
    "# 删除任何 .cuda() 或 to.device() 调用\n",
    "\n",
    "您的lightning模块可以在任何硬件上自动运行！"
   ]
  },
  {
   "cell_type": "code",
   "execution_count": null,
   "id": "considered-coach",
   "metadata": {},
   "outputs": [],
   "source": []
  }
 ],
 "metadata": {
  "kernelspec": {
   "display_name": "Python [conda env:pytorch]",
   "language": "python",
   "name": "conda-env-pytorch-py"
  },
  "language_info": {
   "codemirror_mode": {
    "name": "ipython",
    "version": 3
   },
   "file_extension": ".py",
   "mimetype": "text/x-python",
   "name": "python",
   "nbconvert_exporter": "python",
   "pygments_lexer": "ipython3",
   "version": "3.8.0"
  }
 },
 "nbformat": 4,
 "nbformat_minor": 5
}
