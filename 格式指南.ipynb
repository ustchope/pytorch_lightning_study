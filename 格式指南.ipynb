{
 "cells": [
  {
   "cell_type": "code",
   "execution_count": 2,
   "id": "broad-linux",
   "metadata": {},
   "outputs": [
    {
     "name": "stdout",
     "output_type": "stream",
     "text": [
      "time: 446 ms (started: 2021-08-28 17:50:06 +08:00)\n"
     ]
    }
   ],
   "source": [
    "# 自动计算cell的计算时间\n",
    "%load_ext autotime\n",
    "\n",
    "%matplotlib inline\n",
    "%config InlineBackend.figure_format='svg' #矢量图设置，让绘图更清晰"
   ]
  },
  {
   "cell_type": "code",
   "execution_count": 3,
   "id": "accessory-channels",
   "metadata": {},
   "outputs": [
    {
     "name": "stdout",
     "output_type": "stream",
     "text": [
      "origin\tgit@github.com:ustchope/pytorch_lightning_study.git (fetch)\n",
      "origin\tgit@github.com:ustchope/pytorch_lightning_study.git (push)\n",
      "[main 0c6ecfd] 更新 #3 Aug 28, 2021\n",
      " 4 files changed, 1609 insertions(+), 2 deletions(-)\n",
      " create mode 100644 \"\\345\\212\\240\\345\\277\\253\\346\\250\\241\\345\\236\\213\\350\\256\\255\\347\\273\\203.ipynb\"\n",
      " create mode 100644 \"\\346\\240\\274\\345\\274\\217\\346\\214\\207\\345\\215\\227.ipynb\"\n",
      " create mode 100644 \"\\347\\256\\241\\347\\220\\206\\346\\225\\260\\346\\215\\256.ipynb\"\n"
     ]
    },
    {
     "name": "stderr",
     "output_type": "stream",
     "text": [
      "To git@github.com:ustchope/pytorch_lightning_study.git\n",
      "   c5f194e..0c6ecfd  main -> main\n"
     ]
    },
    {
     "name": "stdout",
     "output_type": "stream",
     "text": [
      "time: 3.97 s (started: 2021-08-28 17:50:15 +08:00)\n"
     ]
    }
   ],
   "source": [
    "%%bash\n",
    "\n",
    "# 增加更新\n",
    "git add *.ipynb *.md\n",
    "\n",
    "git remote -v\n",
    "\n",
    "git commit -m '更新 #3 Aug 28, 2021'\n",
    "\n",
    "#git push origin master\n",
    "git push"
   ]
  },
  {
   "cell_type": "markdown",
   "id": "tamil-platinum",
   "metadata": {},
   "source": [
    "Lightning 的一个主要目标是提高可读性和可重复性。 想象一下，查看任何 GitHub 存储库，找到一个闪电模块，并确切地知道去哪里寻找你关心的东西。\n",
    "\n",
    "本风格指南的目标是鼓励闪电代码的结构相似。"
   ]
  },
  {
   "cell_type": "code",
   "execution_count": 6,
   "id": "social-assembly",
   "metadata": {},
   "outputs": [
    {
     "name": "stdout",
     "output_type": "stream",
     "text": [
      "time: 4.1 s (started: 2021-08-28 20:24:02 +08:00)\n"
     ]
    }
   ],
   "source": [
    "import os\n",
    "import torch\n",
    "from torch import nn\n",
    "import torch.nn.functional as F\n",
    "from torchvision import transforms\n",
    "from torchvision.datasets import MNIST\n",
    "from torch.utils.data import DataLoader, random_split\n",
    "import pytorch_lightning as pl"
   ]
  },
  {
   "cell_type": "markdown",
   "id": "regular-horror",
   "metadata": {},
   "source": [
    "# LightningModule\n",
    "\n",
    "这些是构建 LightningModule 的最佳实践"
   ]
  },
  {
   "cell_type": "markdown",
   "id": "protecting-watts",
   "metadata": {},
   "source": [
    "## 系统与模型"
   ]
  },
  {
   "cell_type": "markdown",
   "id": "straight-induction",
   "metadata": {},
   "source": [
    "![](https://tva1.sinaimg.cn/large/008i3skNgy1gtwrs8jqqkj61620ouwft02.jpg)"
   ]
  },
  {
   "cell_type": "markdown",
   "id": "unsigned-consideration",
   "metadata": {},
   "source": [
    "LightningModule 背后的主要原则是一个完整的系统应该是自包含的。 在 Lightning 中，我们区分系统和模型。\n",
    "\n",
    "模型类似于 resnet18、RNN 等。\n",
    "\n",
    "系统定义了模型集合如何相互交互。 这方面的例子是：\n",
    "* GANs\n",
    "* Seq2Seq\n",
    "* BERT\n",
    "* etc"
   ]
  },
  {
   "cell_type": "markdown",
   "id": "recorded-president",
   "metadata": {},
   "source": [
    "LightningModule 可以定义系统和模型。\n",
    "\n",
    "这是一个定义模型的 LightningModule："
   ]
  },
  {
   "cell_type": "code",
   "execution_count": 7,
   "id": "changed-studio",
   "metadata": {},
   "outputs": [
    {
     "name": "stdout",
     "output_type": "stream",
     "text": [
      "time: 751 µs (started: 2021-08-28 20:24:09 +08:00)\n"
     ]
    }
   ],
   "source": [
    "class LitModel(pl.LightningModule):\n",
    "    def __init__(self, num_layers: int = 3):\n",
    "        super().__init__()\n",
    "        self.layer_1 = nn.Linear()\n",
    "        self.layer_2 = nn.Linear()\n",
    "        self.layer_3 = nn.Linear()"
   ]
  },
  {
   "cell_type": "markdown",
   "id": "superior-constant",
   "metadata": {},
   "source": [
    "这是一个定义系统的 LightningModule："
   ]
  },
  {
   "cell_type": "code",
   "execution_count": null,
   "id": "dated-penetration",
   "metadata": {},
   "outputs": [],
   "source": [
    "class LitModel(LightningModule):\n",
    "    def __init__(self, encoder: nn.Module = None, decoder: nn.Module = None):\n",
    "        super().__init__()\n",
    "        self.encoder = encoder\n",
    "        self.decoder = decoder"
   ]
  },
  {
   "cell_type": "markdown",
   "id": "english-relaxation",
   "metadata": {},
   "source": [
    "对于快速原型设计，在 LightningModule 中定义所有计算通常很有用。 为了可重用性和可扩展性，最好传入相关的主干。"
   ]
  },
  {
   "cell_type": "markdown",
   "id": "invalid-access",
   "metadata": {},
   "source": [
    "## 独立的\n",
    "\n",
    "LightningModules应该是独立的。 一个很好的测试来看看你的模型是如何独立的，是问自己这个问题：\n",
    "\n",
    "“有人可以在不了解内部结构的情况下将此文件放入 Trainer 吗？”\n",
    "\n",
    "例如，我们将优化器与模型结合使用，因为大多数模型需要具有特定学习率调度器的特定优化器才能正常工作。"
   ]
  },
  {
   "cell_type": "markdown",
   "id": "psychological-attraction",
   "metadata": {},
   "source": [
    "## Init\n",
    "\n",
    "LightningModules 倾向于停止自包含的第一个地方是在 init 中。 尝试在 init 中定义所有相关的合理默认值，以便用户不必猜测。\n",
    "\n",
    "这是一个示例，其中用户必须搜索文件以找出如何初始化此 LightningModule。"
   ]
  },
  {
   "cell_type": "code",
   "execution_count": null,
   "id": "golden-messaging",
   "metadata": {},
   "outputs": [],
   "source": [
    "class LitModel(LightningModule):\n",
    "    def __init__(self, params):\n",
    "        self.lr = params.lr\n",
    "        self.coef_x = params.coef_x"
   ]
  },
  {
   "cell_type": "markdown",
   "id": "packed-japanese",
   "metadata": {},
   "source": [
    "这样定义的模型给您留下了许多问题； coef_x 是什么？ 它是一个字符串吗？ 浮动？ 范围是多少？ 等等…\n",
    "\n",
    "相反，在你的初始化中明确"
   ]
  },
  {
   "cell_type": "code",
   "execution_count": null,
   "id": "academic-discretion",
   "metadata": {},
   "outputs": [],
   "source": [
    "class LitModel(LightningModule):\n",
    "    def __init__(self, encoder: nn.Module, coeff_x: float = 0.2, lr: float = 1e-3):\n",
    "        ..."
   ]
  },
  {
   "cell_type": "markdown",
   "id": "sensitive-syndrome",
   "metadata": {},
   "source": [
    "现在用户不必猜测了。 相反，他们知道值类型，并且模型有一个合理的默认值，用户可以立即看到值。"
   ]
  },
  {
   "cell_type": "markdown",
   "id": "compound-digest",
   "metadata": {},
   "source": [
    "## 方法的顺序\n",
    "\n",
    "`LightningModule` 中唯一需要的方法是：\n",
    "* `init`\n",
    "* `training_step`\n",
    "* `configure_optimizers`\n",
    "\n",
    "但是，如果您决定实现其余的可选方法，建议的顺序是：\n",
    "* 模型/系统定义 (`init`)\n",
    "* 如果进行推理，则定义`forward`\n",
    "* 训练挂钩\n",
    "* 验证钩子\n",
    "* 测试钩子\n",
    "* `configure_optimizers`\n",
    "* 任何其他钩子"
   ]
  },
  {
   "cell_type": "markdown",
   "id": "following-genome",
   "metadata": {},
   "source": [
    "在实践中，这段代码看起来像："
   ]
  },
  {
   "cell_type": "code",
   "execution_count": null,
   "id": "floral-conjunction",
   "metadata": {},
   "outputs": [],
   "source": [
    "class LitModel(pl.LightningModule):\n",
    "\n",
    "    def __init__(...):\n",
    "\n",
    "    def forward(...):\n",
    "\n",
    "    def training_step(...):\n",
    "\n",
    "    def training_step_end(...):\n",
    "\n",
    "    def training_epoch_end(...):\n",
    "\n",
    "    def validation_step(...):\n",
    "\n",
    "    def validation_step_end(...):\n",
    "\n",
    "    def validation_epoch_end(...):\n",
    "\n",
    "    def test_step(...):\n",
    "\n",
    "    def test_step_end(...):\n",
    "\n",
    "    def test_epoch_end(...):\n",
    "\n",
    "    def configure_optimizers(...):\n",
    "\n",
    "    def any_extra_hook(...):"
   ]
  },
  {
   "cell_type": "markdown",
   "id": "understanding-thanksgiving",
   "metadata": {},
   "source": [
    "## Forward vs training_step\n",
    "\n",
    "我们建议使用前向进行推理/预测并保持 training_step 独立"
   ]
  },
  {
   "cell_type": "code",
   "execution_count": null,
   "id": "boxed-research",
   "metadata": {},
   "outputs": [],
   "source": [
    "def forward(self, x):\n",
    "    embeddings = self.encoder(x)\n",
    "\n",
    "\n",
    "def training_step(self):\n",
    "    x, y = ...\n",
    "    z = self.encoder(x)\n",
    "    pred = self.decoder(z)\n",
    "    ..."
   ]
  },
  {
   "cell_type": "markdown",
   "id": "false-three",
   "metadata": {},
   "source": [
    "但是在使用DataParallel时，需要手动调用forward"
   ]
  },
  {
   "cell_type": "code",
   "execution_count": null,
   "id": "objective-flesh",
   "metadata": {},
   "outputs": [],
   "source": [
    "def training_step(self):\n",
    "    x, y = ...\n",
    "    z = self(x)  # < ---------- instead of self.encoder(x)\n",
    "    pred = self.decoder(z)\n",
    "    ..."
   ]
  },
  {
   "cell_type": "markdown",
   "id": "stopped-newton",
   "metadata": {},
   "source": [
    "# 数据\n",
    "\n",
    "这些是处理数据的最佳实践。"
   ]
  },
  {
   "cell_type": "markdown",
   "id": "coupled-promotion",
   "metadata": {},
   "source": [
    "## 数据加载器\n",
    "\n",
    "Lightning 使用数据加载器来处理通过系统的所有数据流。 每当您构建数据加载器时，请确保调整工作人员的数量以获得最大效率。"
   ]
  },
  {
   "cell_type": "markdown",
   "id": "psychological-harassment",
   "metadata": {},
   "source": [
    "> 确保不要将 ddp_spawn 与 num_workers > 0 一起使用，否则您的代码会出现瓶颈。"
   ]
  },
  {
   "cell_type": "markdown",
   "id": "ordered-poultry",
   "metadata": {},
   "source": [
    "## DataModules\n",
    "\n",
    "Lightning 引入了DataModules。 数据加载器的问题在于共享完整数据集通常仍然具有挑战性，因为所有这些问题都需要回答：\n",
    "* 使用了哪些拆分？\n",
    "* 这个数据集有多少个样本？\n",
    "* 使用了哪些转换？\n",
    "* 等等…"
   ]
  },
  {
   "cell_type": "markdown",
   "id": "adjustable-commodity",
   "metadata": {},
   "source": [
    "正是出于这个原因，我们建议您使用数据模块。 这在协作时特别重要，因为它也会为您的团队节省大量时间。\n",
    "\n",
    "他们所需要做的就是将数据模块放入闪电训练器中，而不必担心对数据做了什么。\n",
    "\n",
    "这对于学术和企业环境都是如此，在这些环境中，数据清理和临时指令会减慢想法迭代的进度。"
   ]
  },
  {
   "cell_type": "code",
   "execution_count": null,
   "id": "composite-whole",
   "metadata": {},
   "outputs": [],
   "source": []
  }
 ],
 "metadata": {
  "kernelspec": {
   "display_name": "Python [conda env:pytorch]",
   "language": "python",
   "name": "conda-env-pytorch-py"
  },
  "language_info": {
   "codemirror_mode": {
    "name": "ipython",
    "version": 3
   },
   "file_extension": ".py",
   "mimetype": "text/x-python",
   "name": "python",
   "nbconvert_exporter": "python",
   "pygments_lexer": "ipython3",
   "version": "3.8.0"
  }
 },
 "nbformat": 4,
 "nbformat_minor": 5
}
