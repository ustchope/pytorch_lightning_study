{
 "cells": [
  {
   "cell_type": "code",
   "execution_count": 1,
   "id": "35bef4d3",
   "metadata": {},
   "outputs": [
    {
     "name": "stdout",
     "output_type": "stream",
     "text": [
      "time: 299 ms (started: 2021-09-03 14:54:37 +08:00)\n"
     ]
    }
   ],
   "source": [
    "# 自动计算cell的计算时间\n",
    "%load_ext autotime\n",
    "\n",
    "%matplotlib inline\n",
    "%config InlineBackend.figure_format='svg' #矢量图设置，让绘图更清晰\n",
    "\n",
    "%reload_ext tensorboard"
   ]
  },
  {
   "cell_type": "code",
   "execution_count": 2,
   "id": "e58809c7",
   "metadata": {},
   "outputs": [
    {
     "name": "stdout",
     "output_type": "stream",
     "text": [
      "origin\tgit@github.com:ustchope/pytorch_lightning_study.git (fetch)\n",
      "origin\tgit@github.com:ustchope/pytorch_lightning_study.git (push)\n",
      "[main e1541da] 更新 #5 Sept 03, 2021\n",
      " 4 files changed, 508 insertions(+), 2 deletions(-)\n",
      " create mode 100644 \"Lightning-Flash/.ipynb_checkpoints/\\344\\273\\216Flash\\345\\210\\260\\347\\224\\237\\344\\272\\247-checkpoint.ipynb\"\n",
      " create mode 100644 \"Lightning-Flash/\\344\\273\\216Flash\\345\\210\\260\\347\\224\\237\\344\\272\\247.ipynb\"\n"
     ]
    },
    {
     "name": "stderr",
     "output_type": "stream",
     "text": [
      "To github.com:ustchope/pytorch_lightning_study.git\n",
      "   e1f5a28..e1541da  main -> main\n"
     ]
    },
    {
     "name": "stdout",
     "output_type": "stream",
     "text": [
      "time: 3.76 s (started: 2021-09-03 14:54:44 +08:00)\n"
     ]
    }
   ],
   "source": [
    "%%bash\n",
    "\n",
    "# 增加更新\n",
    "git add *.ipynb */*.ipynb\n",
    "\n",
    "git remote -v\n",
    "\n",
    "git commit -m '更新 #5 Sept 03, 2021'\n",
    "\n",
    "#git push origin master\n",
    "git push"
   ]
  },
  {
   "cell_type": "code",
   "execution_count": 3,
   "id": "7aedb5a9",
   "metadata": {},
   "outputs": [
    {
     "name": "stderr",
     "output_type": "stream",
     "text": [
      "Global seed set to 7\n"
     ]
    },
    {
     "name": "stdout",
     "output_type": "stream",
     "text": [
      "time: 1.69 s (started: 2021-09-03 14:55:03 +08:00)\n"
     ]
    }
   ],
   "source": [
    "import os\n",
    "\n",
    "import numpy as np\n",
    "import torch\n",
    "import torch.nn as nn\n",
    "import torch.nn.functional as F\n",
    "import torchvision\n",
    "\n",
    "from collections import OrderedDict\n",
    "\n",
    "from torchvision.datasets import MNIST\n",
    "from torch.utils.data import DataLoader, random_split\n",
    "from pl_bolts.transforms.dataset_normalizations import cifar10_normalization\n",
    "from pytorch_lightning import LightningModule, seed_everything, Trainer, LightningDataModule\n",
    "from pytorch_lightning.callbacks import LearningRateMonitor\n",
    "from pytorch_lightning.loggers import TensorBoardLogger\n",
    "from torch.optim.lr_scheduler import OneCycleLR\n",
    "from torch.optim.swa_utils import AveragedModel, update_bn\n",
    "from torchmetrics.functional import accuracy\n",
    "import torchmetrics\n",
    "import torchvision.transforms as transforms\n",
    "\n",
    "seed_everything(7)\n",
    "\n",
    "PATH_DATASETS = os.environ.get('PATH_DATASETS', '.')\n",
    "AVAIL_GPUS = min(1, torch.cuda.device_count())\n",
    "BATCH_SIZE = 256 if AVAIL_GPUS else 64\n",
    "NUM_WORKERS = int(os.cpu_count() / 2)"
   ]
  },
  {
   "cell_type": "markdown",
   "id": "016837ce",
   "metadata": {},
   "source": [
    "Flash 使在生产中部署模型变得简单。\n",
    "\n",
    "# 服务器端"
   ]
  },
  {
   "cell_type": "code",
   "execution_count": null,
   "id": "053c6f03",
   "metadata": {},
   "outputs": [],
   "source": [
    "from flash.image import SemanticSegmentation\n",
    "from flash.image.segmentation.serialization import SegmentationLabels\n",
    "\n",
    "model = SemanticSegmentation.load_from_checkpoint(\n",
    "    \"https://flash-weights.s3.amazonaws.com/semantic_segmentation_model.pt\"\n",
    ")\n",
    "model.serializer = SegmentationLabels(visualize=False)\n",
    "model.serve()"
   ]
  },
  {
   "cell_type": "markdown",
   "id": "ba42557c",
   "metadata": {},
   "source": [
    "# 客户端"
   ]
  },
  {
   "cell_type": "code",
   "execution_count": null,
   "id": "b6bffd85",
   "metadata": {},
   "outputs": [],
   "source": [
    "import base64\n",
    "from pathlib import Path\n",
    "\n",
    "import requests\n",
    "\n",
    "import flash\n",
    "\n",
    "with (Path(flash.ASSETS_ROOT) / \"road.png\").open(\"rb\") as f:\n",
    "    imgstr = base64.b64encode(f.read()).decode(\"UTF-8\")\n",
    "\n",
    "body = {\"session\": \"UUID\", \"payload\": {\"inputs\": {\"data\": imgstr}}}\n",
    "resp = requests.post(\"http://127.0.0.1:8000/predict\", json=body)\n",
    "print(resp.json())"
   ]
  },
  {
   "cell_type": "code",
   "execution_count": null,
   "id": "b52552ff",
   "metadata": {},
   "outputs": [],
   "source": []
  }
 ],
 "metadata": {
  "kernelspec": {
   "display_name": "Python [conda env:torch19]",
   "language": "python",
   "name": "conda-env-torch19-py"
  },
  "language_info": {
   "codemirror_mode": {
    "name": "ipython",
    "version": 3
   },
   "file_extension": ".py",
   "mimetype": "text/x-python",
   "name": "python",
   "nbconvert_exporter": "python",
   "pygments_lexer": "ipython3",
   "version": "3.9.2"
  }
 },
 "nbformat": 4,
 "nbformat_minor": 5
}
