{
 "cells": [
  {
   "cell_type": "code",
   "execution_count": 1,
   "id": "985e3e05",
   "metadata": {},
   "outputs": [
    {
     "name": "stdout",
     "output_type": "stream",
     "text": [
      "time: 299 ms (started: 2021-09-03 14:21:56 +08:00)\n"
     ]
    }
   ],
   "source": [
    "# 自动计算cell的计算时间\n",
    "%load_ext autotime\n",
    "\n",
    "%matplotlib inline\n",
    "%config InlineBackend.figure_format='svg' #矢量图设置，让绘图更清晰\n",
    "\n",
    "%reload_ext tensorboard"
   ]
  },
  {
   "cell_type": "code",
   "execution_count": 2,
   "id": "b498cd77",
   "metadata": {},
   "outputs": [
    {
     "name": "stdout",
     "output_type": "stream",
     "text": [
      "origin\tgit@github.com:ustchope/pytorch_lightning_study.git (fetch)\n",
      "origin\tgit@github.com:ustchope/pytorch_lightning_study.git (push)\n",
      "[main e1f5a28] 更新 #4 Sept 03, 2021\n",
      " 5 files changed, 1679 insertions(+), 906 deletions(-)\n",
      " create mode 100644 \"Lightning-Flash/.ipynb_checkpoints/\\344\\273\\216FLASH\\345\\210\\260LIGHTNING-checkpoint.ipynb\"\n",
      " create mode 100644 \"Lightning-Flash/\\344\\273\\216FLASH\\345\\210\\260LIGHTNING.ipynb\"\n",
      " rewrite \"Lightning-Flash/\\345\\277\\253\\351\\200\\237\\345\\274\\200\\345\\247\\213.ipynb\" (75%)\n"
     ]
    },
    {
     "name": "stderr",
     "output_type": "stream",
     "text": [
      "To github.com:ustchope/pytorch_lightning_study.git\n",
      "   2159ffa..e1f5a28  main -> main\n"
     ]
    },
    {
     "name": "stdout",
     "output_type": "stream",
     "text": [
      "time: 3.99 s (started: 2021-09-03 14:20:04 +08:00)\n"
     ]
    }
   ],
   "source": [
    "%%bash\n",
    "\n",
    "# 增加更新\n",
    "git add *.ipynb */*.ipynb\n",
    "\n",
    "git remote -v\n",
    "\n",
    "git commit -m '更新 #4 Sept 03, 2021'\n",
    "\n",
    "#git push origin master\n",
    "git push"
   ]
  },
  {
   "cell_type": "code",
   "execution_count": 2,
   "id": "8ab7ae78",
   "metadata": {},
   "outputs": [
    {
     "name": "stderr",
     "output_type": "stream",
     "text": [
      "Global seed set to 7\n"
     ]
    },
    {
     "name": "stdout",
     "output_type": "stream",
     "text": [
      "time: 1.66 s (started: 2021-09-03 14:21:59 +08:00)\n"
     ]
    }
   ],
   "source": [
    "import os\n",
    "\n",
    "import numpy as np\n",
    "import torch\n",
    "import torch.nn as nn\n",
    "import torch.nn.functional as F\n",
    "import torchvision\n",
    "\n",
    "from collections import OrderedDict\n",
    "\n",
    "from torchvision.datasets import MNIST\n",
    "from torch.utils.data import DataLoader, random_split\n",
    "from pl_bolts.transforms.dataset_normalizations import cifar10_normalization\n",
    "from pytorch_lightning import LightningModule, seed_everything, Trainer, LightningDataModule\n",
    "from pytorch_lightning.callbacks import LearningRateMonitor\n",
    "from pytorch_lightning.loggers import TensorBoardLogger\n",
    "from torch.optim.lr_scheduler import OneCycleLR\n",
    "from torch.optim.swa_utils import AveragedModel, update_bn\n",
    "from torchmetrics.functional import accuracy\n",
    "import torchmetrics\n",
    "import torchvision.transforms as transforms\n",
    "\n",
    "seed_everything(7)\n",
    "\n",
    "PATH_DATASETS = os.environ.get('PATH_DATASETS', '.')\n",
    "AVAIL_GPUS = min(1, torch.cuda.device_count())\n",
    "BATCH_SIZE = 256 if AVAIL_GPUS else 64\n",
    "NUM_WORKERS = int(os.cpu_count() / 2)"
   ]
  },
  {
   "cell_type": "markdown",
   "id": "679c5157",
   "metadata": {},
   "source": [
    "Flash 建立在 PyTorch Lightning 之上，以抽象出不必要的样板：\n",
    "* 数据科学\n",
    "* Kaggle\n",
    "* 业务用例\n",
    "* 应用研究\n",
    "\n",
    "Flash 是一个高级库，Lightning 是一个低级库。\n",
    "* Flash（高级）\n",
    "* Lightning（中级）\n",
    "* PyTorch（低级）"
   ]
  },
  {
   "cell_type": "markdown",
   "id": "1ffcbb30",
   "metadata": {},
   "source": [
    "随着复杂性的增加或减少，用户可以在 Flash 和 Lightning 之间无缝切换，以找到适合他们的抽象级别。"
   ]
  },
  {
   "cell_type": "markdown",
   "id": "01264b72",
   "metadata": {},
   "source": [
    "|方法| 灵活性 | 最低深度学习专业水平 | PyTorch 知识|  用例|\n",
    "|----|----|----|----|----|\n",
    "|使用开箱即用的任务|低|新手+|低+|快速基线、数据科学、分析、应用研究|\n",
    "|使用通用任务|中等|中级+|中级+|快速基线，数据科学|\n",
    "|构建自定义任务|高|中级+|中级+|快速基线、自定义业务背景、应用研究|\n",
    "|构建LightningModule|Ultimate（有组织的 PyTorch）|专家+|专家+|对于你可以用 PyTorch 做的任何事情，人工智能研究（学术和企业）|"
   ]
  },
  {
   "cell_type": "markdown",
   "id": "600b0250",
   "metadata": {},
   "source": [
    "# 使用开箱即用的任务\n",
    "\n",
    "任务可以来自多个地方：\n",
    "* Flash\n",
    "* 其他基于 Lightning 的库\n",
    "* 你自己的库\n",
    "\n",
    "使用任务几乎需要对深度学习和 PyTorch 的零知识。 重点是尽快解决问题。 这非常适合：\n",
    "* 数据科学\n",
    "* 分析\n",
    "* 应用研究"
   ]
  },
  {
   "cell_type": "markdown",
   "id": "685e0158",
   "metadata": {},
   "source": [
    "# 使用通用任务\n",
    "\n",
    "如果遇到没有匹配任务的问题，可以使用通用任务。 然而，这确实需要一些 PyTorch 知识，但不需要很多关于深度学习所有细节的知识。\n",
    "\n",
    "这非常适合：\n",
    "* 数据科学\n",
    "* Kaggle 基线\n",
    "* 快速基线\n",
    "* 应用研究\n",
    "* 学习深度学习"
   ]
  },
  {
   "cell_type": "markdown",
   "id": "9e9abb21",
   "metadata": {},
   "source": [
    "> 如果你使用过像 Keras 这样的东西，这是最相似的抽象级别。"
   ]
  },
  {
   "cell_type": "markdown",
   "id": "e155996c",
   "metadata": {},
   "source": [
    "# 构建自定义任务\n",
    "\n",
    "如果您喜欢冒险并且没有针对特定应用问题的现成任务，请考虑构建您自己的任务。 这需要相当数量的 PyTorch 知识，但不会太多，因为任务是 LightningModules，已经为你抽象了很多细节。\n",
    "\n",
    "这非常适合：\n",
    "* 数据科学\n",
    "* 研究人员为企业数据科学团队建设\n",
    "* 应用研究\n",
    "* 自定义业务上下文"
   ]
  },
  {
   "cell_type": "markdown",
   "id": "6ce33394",
   "metadata": {},
   "source": [
    "> 在公司环境中，这里的一个好的设置是拥有自己的类似 Flash 的库，其中包含与您的业务问题相关的任务。"
   ]
  },
  {
   "cell_type": "markdown",
   "id": "16151ca8",
   "metadata": {},
   "source": [
    "# 构建闪电模块\n",
    "\n",
    "一旦您达到 Flash 提供的灵活性阈值，就可以直接转向 LightningModule。 LightningModule 由 PyTorch 组织，但为您提供相同的灵活性。 但是，您必须已经相当了解 PyTorch，并且至少熟悉基本的深度学习概念。\n",
    "\n",
    "这非常适合：\n",
    "* 专家\n",
    "* 学术人工智能研究\n",
    "* 企业人工智能研究\n",
    "* 先进的应用研究\n",
    "* 发表论文"
   ]
  },
  {
   "cell_type": "code",
   "execution_count": null,
   "id": "896f8349",
   "metadata": {},
   "outputs": [],
   "source": []
  }
 ],
 "metadata": {
  "kernelspec": {
   "display_name": "Python [conda env:torch19]",
   "language": "python",
   "name": "conda-env-torch19-py"
  },
  "language_info": {
   "codemirror_mode": {
    "name": "ipython",
    "version": 3
   },
   "file_extension": ".py",
   "mimetype": "text/x-python",
   "name": "python",
   "nbconvert_exporter": "python",
   "pygments_lexer": "ipython3",
   "version": "3.9.2"
  }
 },
 "nbformat": 4,
 "nbformat_minor": 5
}
