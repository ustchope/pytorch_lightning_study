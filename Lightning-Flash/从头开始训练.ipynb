{
 "cells": [
  {
   "cell_type": "markdown",
   "id": "c4cecbd8",
   "metadata": {},
   "source": [
    "一些 Flash 任务已经在大型数据集上进行了预训练。 为了加速您的训练，使用预训练的主干调用 Finetune() 方法将微调主干以生成针对您的数据集和所需任务定制的模型。\n",
    "\n",
    "从快速入门指南。\n",
    "\n",
    "要从头开始训练任务：\n",
    "* 使用为任务定制的 `DataModule` 加载您的数据并组织它（例如：`ImageClassificationData`）。\n",
    "* 选择并初始化您的任务（设置 `pretrained=False`），它内置了最先进的主干（例如：`ImageClassifier`）。\n",
    "* 初始化 `flash.core.trainer.Trainer` 或 `pytorch_lightning.trainer.Trainer`。\n",
    "* 使用您的数据集调用 `flash.core.trainer.Trainer.fit()`。\n",
    "* 保存经过训练的模型。\n",
    "\n",
    "下面是一个例子："
   ]
  },
  {
   "cell_type": "code",
   "execution_count": null,
   "id": "3b14448c",
   "metadata": {},
   "outputs": [],
   "source": [
    "from pytorch_lightning import seed_everything\n",
    "\n",
    "import flash\n",
    "from flash.core.classification import Labels\n",
    "from flash.core.data.utils import download_data\n",
    "from flash.image import ImageClassificationData, ImageClassifier\n",
    "\n",
    "# 设置随机种子。\n",
    "seed_everything(42)\n",
    "\n",
    "# 1. 下载和组织数据\n",
    "download_data(\"https://pl-flash-data.s3.amazonaws.com/hymenoptera_data.zip\", \"data/\")\n",
    "\n",
    "datamodule = ImageClassificationData.from_folders(\n",
    "    train_folder=\"data/hymenoptera_data/train/\",\n",
    "    val_folder=\"data/hymenoptera_data/val/\",\n",
    "    test_folder=\"data/hymenoptera_data/test/\",\n",
    ")\n",
    "\n",
    "# 2. 使用所需的任务构建模型\n",
    "model = ImageClassifier(backbone=\"resnet18\", num_classes=datamodule.num_classes, pretrained=False)\n",
    "\n",
    "# 3. 创建训练器（运行一个 epoch 进行演示）\n",
    "trainer = flash.Trainer(max_epochs=1, gpus=torch.cuda.device_count())\n",
    "\n",
    "# 4. 训练模型\n",
    "trainer.fit(model, datamodule=datamodule)\n",
    "\n",
    "# 5.保存模型！\n",
    "trainer.save_checkpoint(\"image_classification_model.pt\")"
   ]
  },
  {
   "cell_type": "markdown",
   "id": "2f4fe12f",
   "metadata": {},
   "source": [
    "# 训练选项\n",
    "\n",
    "Flash 任务支持许多开箱即用的高级训练功能，例如："
   ]
  },
  {
   "cell_type": "markdown",
   "id": "1ff696c0",
   "metadata": {},
   "source": [
    "* 限制周期数"
   ]
  },
  {
   "cell_type": "code",
   "execution_count": null,
   "id": "32c1b56f",
   "metadata": {},
   "outputs": [],
   "source": [
    "# train for 10 epochs\n",
    "flash.Trainer(max_epochs=10)"
   ]
  },
  {
   "cell_type": "markdown",
   "id": "11a11574",
   "metadata": {},
   "source": [
    "* 在 GPU 上训练"
   ]
  },
  {
   "cell_type": "code",
   "execution_count": null,
   "id": "0e26cc3a",
   "metadata": {},
   "outputs": [],
   "source": [
    "# train on 1 GPU\n",
    "flash.Trainer(gpus=1)"
   ]
  },
  {
   "cell_type": "markdown",
   "id": "ebd91920",
   "metadata": {},
   "source": [
    "* 在多个 GPU 上训练"
   ]
  },
  {
   "cell_type": "code",
   "execution_count": null,
   "id": "5172c202",
   "metadata": {},
   "outputs": [],
   "source": [
    "# train on multiple GPUs\n",
    "flash.Trainer(gpus=4)"
   ]
  },
  {
   "cell_type": "code",
   "execution_count": null,
   "id": "078e9be5",
   "metadata": {},
   "outputs": [],
   "source": [
    "# train on gpu 1, 3, 5 (3 gpus total)\n",
    "flash.Trainer(gpus=[1, 3, 5])"
   ]
  },
  {
   "cell_type": "markdown",
   "id": "7546d42e",
   "metadata": {},
   "source": [
    "* 使用混合精度训练"
   ]
  },
  {
   "cell_type": "code",
   "execution_count": null,
   "id": "defa6387",
   "metadata": {},
   "outputs": [],
   "source": [
    "# Multi GPU with mixed precision\n",
    "flash.Trainer(gpus=2, precision=16)"
   ]
  },
  {
   "cell_type": "markdown",
   "id": "69f0aaa2",
   "metadata": {},
   "source": [
    "* TPU 训练"
   ]
  },
  {
   "cell_type": "code",
   "execution_count": null,
   "id": "b2bbd74e",
   "metadata": {},
   "outputs": [],
   "source": [
    "# Train on TPUs\n",
    "flash.Trainer(tpu_cores=8)"
   ]
  },
  {
   "cell_type": "markdown",
   "id": "2e00563a",
   "metadata": {},
   "source": [
    "您可以将来自 Lightning 训练器的任何参数添加到 flash Trainer！ 在此处了解有关 Lightning Trainer 的更多信息。"
   ]
  },
  {
   "cell_type": "code",
   "execution_count": null,
   "id": "09513802",
   "metadata": {},
   "outputs": [],
   "source": []
  }
 ],
 "metadata": {
  "kernelspec": {
   "display_name": "Python [conda env:torch19]",
   "language": "python",
   "name": "conda-env-torch19-py"
  },
  "language_info": {
   "codemirror_mode": {
    "name": "ipython",
    "version": 3
   },
   "file_extension": ".py",
   "mimetype": "text/x-python",
   "name": "python",
   "nbconvert_exporter": "python",
   "pygments_lexer": "ipython3",
   "version": "3.9.2"
  }
 },
 "nbformat": 4,
 "nbformat_minor": 5
}
