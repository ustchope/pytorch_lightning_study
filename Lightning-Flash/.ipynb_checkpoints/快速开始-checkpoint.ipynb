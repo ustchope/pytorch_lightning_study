{
 "cells": [
  {
   "cell_type": "code",
   "execution_count": 1,
   "id": "c4e8c63b",
   "metadata": {},
   "outputs": [
    {
     "name": "stdout",
     "output_type": "stream",
     "text": [
      "time: 311 ms (started: 2021-09-03 13:30:02 +08:00)\n"
     ]
    }
   ],
   "source": [
    "# 自动计算cell的计算时间\n",
    "%load_ext autotime\n",
    "\n",
    "%matplotlib inline\n",
    "%config InlineBackend.figure_format='svg' #矢量图设置，让绘图更清晰\n",
    "\n",
    "%reload_ext tensorboard"
   ]
  },
  {
   "cell_type": "code",
   "execution_count": 2,
   "id": "acc99a0d",
   "metadata": {},
   "outputs": [
    {
     "name": "stdout",
     "output_type": "stream",
     "text": [
      "origin\tgit@github.com:ustchope/pytorch_lightning_study.git (fetch)\n",
      "origin\tgit@github.com:ustchope/pytorch_lightning_study.git (push)\n",
      "[main fb6a44a] 更新 #2 Sept 03, 2021\n",
      " 2 files changed, 12 insertions(+)\n",
      " create mode 100644 \"Lightning-Flash/.ipynb_checkpoints/\\346\\234\\252\\345\\221\\275\\345\\220\\215-checkpoint.ipynb\"\n",
      " create mode 100644 \"Lightning-Flash/\\346\\234\\252\\345\\221\\275\\345\\220\\215.ipynb\"\n"
     ]
    },
    {
     "name": "stderr",
     "output_type": "stream",
     "text": [
      "To github.com:ustchope/pytorch_lightning_study.git\n",
      "   46f24ee..fb6a44a  main -> main\n"
     ]
    },
    {
     "name": "stdout",
     "output_type": "stream",
     "text": [
      "time: 3.6 s (started: 2021-09-03 13:30:15 +08:00)\n"
     ]
    }
   ],
   "source": [
    "%%bash\n",
    "\n",
    "# 增加更新\n",
    "git add *.ipynb */*.ipynb\n",
    "\n",
    "git remote -v\n",
    "\n",
    "git commit -m '更新 #2 Sept 03, 2021'\n",
    "\n",
    "#git push origin master\n",
    "git push"
   ]
  },
  {
   "cell_type": "code",
   "execution_count": 3,
   "id": "01c4a7af",
   "metadata": {},
   "outputs": [
    {
     "name": "stderr",
     "output_type": "stream",
     "text": [
      "Global seed set to 7\n"
     ]
    },
    {
     "name": "stdout",
     "output_type": "stream",
     "text": [
      "time: 1.44 s (started: 2021-09-03 13:30:30 +08:00)\n"
     ]
    }
   ],
   "source": [
    "import os\n",
    "\n",
    "import numpy as np\n",
    "import torch\n",
    "import torch.nn as nn\n",
    "import torch.nn.functional as F\n",
    "import torchvision\n",
    "\n",
    "from collections import OrderedDict\n",
    "\n",
    "from torchvision.datasets import MNIST\n",
    "from torch.utils.data import DataLoader, random_split\n",
    "from pl_bolts.transforms.dataset_normalizations import cifar10_normalization\n",
    "from pytorch_lightning import LightningModule, seed_everything, Trainer, LightningDataModule\n",
    "from pytorch_lightning.callbacks import LearningRateMonitor\n",
    "from pytorch_lightning.loggers import TensorBoardLogger\n",
    "from torch.optim.lr_scheduler import OneCycleLR\n",
    "from torch.optim.swa_utils import AveragedModel, update_bn\n",
    "from torchmetrics.functional import accuracy\n",
    "import torchmetrics\n",
    "import torchvision.transforms as transforms\n",
    "\n",
    "seed_everything(7)\n",
    "\n",
    "PATH_DATASETS = os.environ.get('PATH_DATASETS', '.')\n",
    "AVAIL_GPUS = min(1, torch.cuda.device_count())\n",
    "BATCH_SIZE = 256 if AVAIL_GPUS else 64\n",
    "NUM_WORKERS = int(os.cpu_count() / 2)"
   ]
  },
  {
   "cell_type": "markdown",
   "id": "a0aa4bb2",
   "metadata": {},
   "source": [
    "# 快速开始\n",
    "\n",
    "Flash 是一个高级深度学习框架，用于快速原型设计、基线、微调和解决深度学习问题。 它具有一组任务供您用于开箱即用的推理和微调，以及一个易于实现的 API 来自定义流程的每个步骤以获得充分的灵活性。\n",
    "\n",
    "Flash 是为初学者构建的，其简单的 API 需要很少的深度学习背景，也适合数据科学家、Kagglers、应用 ML 从业者和深度学习研究人员，他们希望通过 PyTorch Lightning 提供的高级功能快速获得深度学习基线。"
   ]
  },
  {
   "cell_type": "markdown",
   "id": "e666f26e",
   "metadata": {},
   "source": [
    "# 为什么是Flash？\n",
    "\n",
    "## 深度学习入门\n",
    "\n",
    "### 简单易学\n",
    "\n",
    "如果您刚刚开始使用深度学习，Flash 提供了常见的深度学习任务，您可以在几行代码中开箱即用，无需数学、花哨的 nn.Modules 或研究经验！\n",
    "\n",
    "### 易于扩展\n",
    "\n",
    "Flash 建立在 PyTorch Lightning 之上，PyTorch Lightning 是一个强大的深度学习研究框架，用于大规模训练模型。 借助 Lightning 的强大功能，您可以在任何硬件上训练您的 Flash 任务：CPU、GPU 或 TPU，无需更改任何代码。\n",
    "\n",
    "### 易于提升技能\n",
    "\n",
    "如果您想创建更复杂和自定义的模型，您可以使用 PyTorch 或 PyTorch Lightning 组件重构 flash 的任何部分，以获得您需要的所有灵活性。 闪电只是组织 PyTorch，抽象掉了不必要的工程细节。\n",
    "* Flash（高级）\n",
    "* Lightning（中级）\n",
    "* PyTorch（低级）\n",
    "当您需要更多灵活性时，您可以构建自己的任务或直接使用 Lightning。"
   ]
  },
  {
   "cell_type": "markdown",
   "id": "8a93eb20",
   "metadata": {},
   "source": [
    "## 用于深度学习研究\n",
    "\n",
    "### 达到基线的最快方法\n",
    "\n",
    "PyTorch Lightning 旨在抽象掉不必要的样板，同时实现最大的灵活性。为了提供充分的灵活性，解决闪电中的分类等非常常见的深度学习问题仍然需要一些样板。在新数据集或域外任务上运行基线模型仍然需要相当长的时间。我们创建 Flash 是为了满足我们的用户对使用经过验证的常用数据模式主干为 Lightning 建立基线的超快速方法的需求。 Flash 旨在成为您研究的最简单起点 - 从 Flash 任务开始作为基准，并在您进行 SOTA 研究的途中使用 Lightning 或 PyTorch 组件覆盖 Flash 的任何部分。\n",
    "\n",
    "### 随心所欲的灵活性\n",
    "\n",
    "Flash 任务本质上是 LightningModules，Flash Trainer 是 Lightning Trainer 的薄包装。您可以使用自己的 LightningModule 代替 Flash 任务，使用 Lightning Trainer 代替 Flash 训练器等。Flash 帮助您更加专注于您的研究，而不是其他任何事情。\n",
    "\n",
    "### 标准最佳实践\n",
    "\n",
    "Flash 任务为各种不同的模型和域实施标准的最佳实践，以节省您挖掘不同实施的时间。 Flash 比 Lightning 抽象出更多的细节，允许深度学习专家分享他们解决范围深度学习问题的技巧和窍门。"
   ]
  },
  {
   "cell_type": "markdown",
   "id": "7b35e241",
   "metadata": {},
   "source": [
    "# 任务\n",
    "\n",
    "Flash 由一组任务组成。 Flash 任务是激光聚焦的对象，旨在使用最先进的方法解决明确定义的问题类型。\n",
    "\n",
    "Flash 任务包含解决手头任务的所有相关信息——您要预测的类标签数量、数据集中的列数，以及所用模型架构的详细信息，例如损失函数、优化器等。\n",
    "\n",
    "以下是任务示例："
   ]
  },
  {
   "cell_type": "code",
   "execution_count": null,
   "id": "aa5c64bf",
   "metadata": {},
   "outputs": [],
   "source": [
    "from flash.text import TextClassifier\n",
    "from flash.image import ImageClassifier\n",
    "from flash.tabular import TabularClassifier"
   ]
  },
  {
   "cell_type": "markdown",
   "id": "6af9e18d",
   "metadata": {},
   "source": [
    "> 根据定义，任务是不灵活的！ 为了获得更大的灵活性，您可以直接使用 LightningModule 或只需几行即可修改现有任务。"
   ]
  },
  {
   "cell_type": "markdown",
   "id": "737bf68a",
   "metadata": {},
   "source": [
    "# 推理\n",
    "\n",
    "推理是从经过训练的模型生成预测的过程。 使用任务进行推理：\n",
    "1. 使用检查点（检查点只是捕获模型使用的所有参数的确切值的文件）使用预训练权重初始化您的任务。 本地文件或 URL 有效。\n",
    "2. 将数据传递给 flash.core.model.Task.predict()。\n",
    "\n",
    "下面是一个推理的例子："
   ]
  },
  {
   "cell_type": "code",
   "execution_count": null,
   "id": "fc7d21d9",
   "metadata": {},
   "outputs": [],
   "source": [
    "# import our libraries\n",
    "from flash.text import TextClassifier\n",
    "\n",
    "# 1. Init the finetuned task from URL\n",
    "model = TextClassifier.load_from_checkpoint(\"https://flash-weights.s3.amazonaws.com/text_classification_model.pt\")\n",
    "\n",
    "# 2. Perform inference from list of sequences\n",
    "predictions = model.predict(\n",
    "    [\n",
    "        \"Turgid dialogue, feeble characterization - Harvey Keitel a judge?.\",\n",
    "        \"The worst movie in the history of cinema.\",\n",
    "        \"This guy has done a great job with this movie!\",\n",
    "    ]\n",
    ")\n",
    "print(predictions)"
   ]
  },
  {
   "cell_type": "markdown",
   "id": "242daf9f",
   "metadata": {},
   "source": [
    "我们得到以下输出："
   ]
  },
  {
   "cell_type": "code",
   "execution_count": null,
   "id": "f9088798",
   "metadata": {},
   "outputs": [],
   "source": [
    "[\"negative\", \"negative\", \"positive\"]"
   ]
  },
  {
   "cell_type": "markdown",
   "id": "e0089fda",
   "metadata": {},
   "source": [
    "# 微调\n",
    "\n",
    "微调（或迁移学习）是将在大型数据集上训练的模型调整为您的特定（可能小得多）数据集的过程。 所有 Flash 任务都有预训练的主干，这些主干已经在 ImageNet 等大型数据集上进行了训练。 对预训练模型进行微调可显着减少训练时间。\n",
    "\n",
    "要使用任务进行微调：\n",
    "* 使用为任务定制的 DataModule 加载您的数据并组织它（例如：ImageClassificationData）。\n",
    "* 选择并初始化您的任务，其中内置了最先进的主干（例如：ImageClassifier）。\n",
    "* 初始化 flash.core.trainer.Trainer。\n",
    "* 选择微调策略（例如：“冻结”）并使用您的数据调用 flash.core.trainer.Trainer.finetune()。\n",
    "* 保存您的微调模型。\n",
    "\n",
    "这是一个微调的例子。"
   ]
  },
  {
   "cell_type": "code",
   "execution_count": null,
   "id": "c388f456",
   "metadata": {},
   "outputs": [],
   "source": [
    "from pytorch_lightning import seed_everything\n",
    "\n",
    "import flash\n",
    "from flash.core.classification import Labels\n",
    "from flash.core.data.utils import download_data\n",
    "from flash.image import ImageClassificationData, ImageClassifier\n",
    "\n",
    "# set the random seeds.\n",
    "seed_everything(42)\n",
    "\n",
    "# 1. Download and organize the data\n",
    "download_data(\"https://pl-flash-data.s3.amazonaws.com/hymenoptera_data.zip\", \"data/\")\n",
    "\n",
    "datamodule = ImageClassificationData.from_folders(\n",
    "    train_folder=\"data/hymenoptera_data/train/\",\n",
    "    val_folder=\"data/hymenoptera_data/val/\",\n",
    "    test_folder=\"data/hymenoptera_data/test/\",\n",
    ")\n",
    "\n",
    "# 2. 使用所需的任务构建模型\n",
    "model = ImageClassifier(backbone=\"resnet18\", num_classes=datamodule.num_classes)\n",
    "\n",
    "# 3. 创建训练器（运行一个 epoch 进行演示）\n",
    "trainer = flash.Trainer(max_epochs=1, gpus=torch.cuda.device_count())\n",
    "\n",
    "# 4. 微调模型\n",
    "trainer.finetune(model, datamodule=datamodule, strategy=\"freeze\")\n",
    "\n",
    "# 5. 保存模型！\n",
    "trainer.save_checkpoint(\"image_classification_model.pt\")"
   ]
  },
  {
   "cell_type": "markdown",
   "id": "1b768eb5",
   "metadata": {},
   "source": [
    "## 使用微调模型\n",
    "\n",
    "微调后，使用模型进行预测："
   ]
  },
  {
   "cell_type": "code",
   "execution_count": null,
   "id": "2c395089",
   "metadata": {},
   "outputs": [],
   "source": [
    "# 将预测序列化为标签，从第 2 部分中的训练数据自动推断。\n",
    "model.serializer = Labels()\n",
    "\n",
    "predictions = model.predict(\n",
    "    [\n",
    "        \"data/hymenoptera_data/val/bees/65038344_52a45d090d.jpg\",\n",
    "        \"data/hymenoptera_data/val/ants/2255445811_dabcdf7258.jpg\",\n",
    "    ]\n",
    ")\n",
    "print(predictions)"
   ]
  },
  {
   "cell_type": "markdown",
   "id": "b6cb2c54",
   "metadata": {},
   "source": [
    "我们得到以下输出："
   ]
  },
  {
   "cell_type": "code",
   "execution_count": null,
   "id": "ba8bbb50",
   "metadata": {},
   "outputs": [],
   "source": [
    "['bees', 'ants']"
   ]
  },
  {
   "cell_type": "markdown",
   "id": "ed0792f9",
   "metadata": {},
   "source": [
    "或者您可以在任何地方使用保存的模型进行预测！"
   ]
  },
  {
   "cell_type": "code",
   "execution_count": null,
   "id": "6432c7ab",
   "metadata": {},
   "outputs": [],
   "source": [
    "from flash.image import ImageClassifier\n",
    "\n",
    "# load finetuned checkpoint\n",
    "model = ImageClassifier.load_from_checkpoint(\"image_classification_model.pt\")\n",
    "\n",
    "predictions = model.predict(\"path/to/your/own/image.png\")"
   ]
  },
  {
   "cell_type": "markdown",
   "id": "1ec78ae6",
   "metadata": {},
   "source": [
    "# 训练\n",
    "\n",
    "当您有足够的数据时，最好从头开始训练而不是微调。\n",
    "\n",
    "要从头开始训练任务：\n",
    "1. 使用为任务定制的 DataModule 加载您的数据并组织它（例如：ImageClassificationData）。\n",
    "2. 选择并初始化您的任务（设置 pretrained=False），它内置了最先进的主干（例如：ImageClassifier）。\n",
    "3. 初始化 flash.core.trainer.Trainer 或 pytorch_lightning.trainer.Trainer。\n",
    "4. 使用您的数据集调用 flash.core.trainer.Trainer.fit()。\n",
    "5. 保存经过训练的模型。\n",
    "\n",
    "下面是一个例子："
   ]
  },
  {
   "cell_type": "code",
   "execution_count": null,
   "id": "500bfcca",
   "metadata": {},
   "outputs": [],
   "source": [
    "from pytorch_lightning import seed_everything\n",
    "\n",
    "import flash\n",
    "from flash.core.classification import Labels\n",
    "from flash.core.data.utils import download_data\n",
    "from flash.image import ImageClassificationData, ImageClassifier\n",
    "\n",
    "# set the random seeds.\n",
    "seed_everything(42)\n",
    "\n",
    "# 1. Download and organize the data\n",
    "download_data(\"https://pl-flash-data.s3.amazonaws.com/hymenoptera_data.zip\", \"data/\")\n",
    "\n",
    "datamodule = ImageClassificationData.from_folders(\n",
    "    train_folder=\"data/hymenoptera_data/train/\",\n",
    "    val_folder=\"data/hymenoptera_data/val/\",\n",
    "    test_folder=\"data/hymenoptera_data/test/\",\n",
    ")\n",
    "\n",
    "# 2. Build the model using desired Task\n",
    "model = ImageClassifier(backbone=\"resnet18\", num_classes=datamodule.num_classes, pretrained=False)\n",
    "\n",
    "# 3. Create the trainer (run one epoch for demo)\n",
    "trainer = flash.Trainer(max_epochs=1, gpus=torch.cuda.device_count())\n",
    "\n",
    "# 4. Train the model\n",
    "trainer.fit(model, datamodule=datamodule)\n",
    "\n",
    "# 5. Save the model!\n",
    "trainer.save_checkpoint(\"image_classification_model.pt\")"
   ]
  },
  {
   "cell_type": "markdown",
   "id": "4283e30c",
   "metadata": {},
   "source": [
    "# 一些内置任务\n",
    "* 图像分类\n",
    "* 图像嵌入器\n",
    "* 文本分类\n",
    "* 总结任务\n",
    "* 翻译任务\n",
    "* 表格分类\n",
    "\n",
    "更多任务即将推出！"
   ]
  },
  {
   "cell_type": "code",
   "execution_count": null,
   "id": "f77f5ad5",
   "metadata": {},
   "outputs": [],
   "source": []
  }
 ],
 "metadata": {
  "kernelspec": {
   "display_name": "Python [conda env:torch19]",
   "language": "python",
   "name": "conda-env-torch19-py"
  },
  "language_info": {
   "codemirror_mode": {
    "name": "ipython",
    "version": 3
   },
   "file_extension": ".py",
   "mimetype": "text/x-python",
   "name": "python",
   "nbconvert_exporter": "python",
   "pygments_lexer": "ipython3",
   "version": "3.9.2"
  }
 },
 "nbformat": 4,
 "nbformat_minor": 5
}
