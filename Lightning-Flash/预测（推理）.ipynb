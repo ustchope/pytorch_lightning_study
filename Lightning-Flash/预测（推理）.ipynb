{
 "cells": [
  {
   "cell_type": "markdown",
   "id": "9483d64d",
   "metadata": {},
   "source": [
    "您可以使用 Flash 对预训练或微调模型进行预测。"
   ]
  },
  {
   "cell_type": "markdown",
   "id": "93f2db79",
   "metadata": {},
   "source": [
    "# 对单个数据样本进行预测\n",
    "\n",
    "您可以将数据样本（图像文件路径、文本字符串等）传递给 predict() 方法。"
   ]
  },
  {
   "cell_type": "code",
   "execution_count": null,
   "id": "d5bc2ec1",
   "metadata": {},
   "outputs": [],
   "source": [
    "from flash.core.data.utils import download_data\n",
    "from flash.image import ImageClassifier\n",
    "\n",
    "\n",
    "# 1. Download the data set\n",
    "download_data(\"https://pl-flash-data.s3.amazonaws.com/hymenoptera_data.zip\", \"data/\")\n",
    "\n",
    "# 2. Load the model from a checkpoint\n",
    "model = ImageClassifier.load_from_checkpoint(\"https://flash-weights.s3.amazonaws.com/image_classification_model.pt\")\n",
    "\n",
    "# 3. Predict whether the image contains an ant or a bee\n",
    "predictions = model.predict(\"data/hymenoptera_data/val/bees/65038344_52a45d090d.jpg\")\n",
    "print(predictions)"
   ]
  },
  {
   "cell_type": "markdown",
   "id": "97ebfcf8",
   "metadata": {},
   "source": [
    "# 对 csv 文件进行预测"
   ]
  },
  {
   "cell_type": "code",
   "execution_count": null,
   "id": "89905709",
   "metadata": {},
   "outputs": [],
   "source": [
    "from flash.core.data.utils import download_data\n",
    "from flash.tabular import TabularClassifier\n",
    "\n",
    "# 1. Download the data\n",
    "download_data(\"https://pl-flash-data.s3.amazonaws.com/titanic.zip\", \"data/\")\n",
    "\n",
    "# 2. Load the model from a checkpoint\n",
    "model = TabularClassifier.load_from_checkpoint(\"https://flash-weights.s3.amazonaws.com/tabnet_classification_model.pt\")\n",
    "\n",
    "# 3. Generate predictions from a csv file! Who would survive?\n",
    "predictions = model.predict(\"data/titanic/titanic.csv\")\n",
    "print(predictions)"
   ]
  },
  {
   "cell_type": "markdown",
   "id": "a94890c1",
   "metadata": {},
   "source": [
    "# 序列化预测\n",
    "\n",
    "要更改预测的序列化方式，您可以将序列化程序附加到您的任务。 例如，您可以选择将输出序列化为概率（有关更多选项，请参阅下面的 API 参考）。"
   ]
  },
  {
   "cell_type": "code",
   "execution_count": null,
   "id": "53d64672",
   "metadata": {},
   "outputs": [],
   "source": [
    "from flash.core.classification import Probabilities\n",
    "from flash.core.data.utils import download_data\n",
    "from flash.image import ImageClassifier\n",
    "\n",
    "\n",
    "# 1. Download the data set\n",
    "download_data(\"https://pl-flash-data.s3.amazonaws.com/hymenoptera_data.zip\", \"data/\")\n",
    "\n",
    "# 2. Load the model from a checkpoint\n",
    "model = ImageClassifier.load_from_checkpoint(\"https://flash-weights.s3.amazonaws.com/image_classification_model.pt\")\n",
    "\n",
    "# 3. 附加序列化程序\n",
    "model.serializer = Probabilities()\n",
    "\n",
    "# 4. Predict whether the image contains an ant or a bee\n",
    "predictions = model.predict(\"data/hymenoptera_data/val/bees/65038344_52a45d090d.jpg\")\n",
    "print(predictions)\n",
    "# out: [[0.5926494598388672, 0.40735048055648804]]"
   ]
  },
  {
   "cell_type": "code",
   "execution_count": null,
   "id": "e1e959b5",
   "metadata": {},
   "outputs": [],
   "source": []
  }
 ],
 "metadata": {
  "kernelspec": {
   "display_name": "Python [conda env:torch19]",
   "language": "python",
   "name": "conda-env-torch19-py"
  },
  "language_info": {
   "codemirror_mode": {
    "name": "ipython",
    "version": 3
   },
   "file_extension": ".py",
   "mimetype": "text/x-python",
   "name": "python",
   "nbconvert_exporter": "python",
   "pygments_lexer": "ipython3",
   "version": "3.9.2"
  }
 },
 "nbformat": 4,
 "nbformat_minor": 5
}
