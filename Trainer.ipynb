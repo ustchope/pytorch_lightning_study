{
 "cells": [
  {
   "cell_type": "code",
   "execution_count": 1,
   "id": "right-ferry",
   "metadata": {},
   "outputs": [
    {
     "name": "stdout",
     "output_type": "stream",
     "text": [
      "time: 551 ms (started: 2021-08-29 13:31:15 +08:00)\n"
     ]
    }
   ],
   "source": [
    "# 自动计算cell的计算时间\n",
    "%load_ext autotime\n",
    "\n",
    "%matplotlib inline\n",
    "%config InlineBackend.figure_format='svg' #矢量图设置，让绘图更清晰"
   ]
  },
  {
   "cell_type": "code",
   "execution_count": 2,
   "id": "fifty-organization",
   "metadata": {},
   "outputs": [
    {
     "name": "stdout",
     "output_type": "stream",
     "text": [
      "origin\tgit@github.com:ustchope/pytorch_lightning_study.git (fetch)\n",
      "origin\tgit@github.com:ustchope/pytorch_lightning_study.git (push)\n",
      "[main 88ceda3] 更新 #2 Aug 29, 2021\n",
      " 2 files changed, 2780 insertions(+), 408 deletions(-)\n",
      " create mode 100644 Trainer.ipynb\n"
     ]
    },
    {
     "name": "stderr",
     "output_type": "stream",
     "text": [
      "To git@github.com:ustchope/pytorch_lightning_study.git\n",
      "   988c748..88ceda3  main -> main\n"
     ]
    }
   ],
   "source": [
    "%%bash\n",
    "\n",
    "# 增加更新\n",
    "git add *.ipynb *.md\n",
    "\n",
    "git remote -v\n",
    "\n",
    "git commit -m '更新 #2 Aug 29, 2021'\n",
    "\n",
    "#git push origin master\n",
    "git push"
   ]
  },
  {
   "cell_type": "code",
   "execution_count": 2,
   "id": "specialized-classification",
   "metadata": {},
   "outputs": [
    {
     "name": "stdout",
     "output_type": "stream",
     "text": [
      "time: 3.75 s (started: 2021-08-29 13:31:16 +08:00)\n"
     ]
    }
   ],
   "source": [
    "import os\n",
    "import torch\n",
    "from torch import nn\n",
    "import torch.nn.functional as F\n",
    "from torchvision import transforms\n",
    "from torchvision.datasets import MNIST\n",
    "from torch.utils.data import DataLoader, random_split\n",
    "import pytorch_lightning as pl"
   ]
  },
  {
   "cell_type": "markdown",
   "id": "formal-microphone",
   "metadata": {},
   "source": [
    "将 PyTorch 代码组织到 LightningModule 中后，Trainer 会自动执行其他所有操作。"
   ]
  },
  {
   "cell_type": "markdown",
   "id": "third-counter",
   "metadata": {},
   "source": [
    "这种抽象实现了以下目标：\n",
    "1. 您可以通过 PyTorch 代码保持对所有方面的控制，而无需添加抽象。\n",
    "2. 培训师使用来自 Facebook AI Research、纽约大学、麻省理工学院、斯坦福大学等顶级 AI 实验室的贡献者和用户嵌入的最佳实践......\n",
    "3. 培训师允许覆盖您不希望自动化的任何关键部分。"
   ]
  },
  {
   "cell_type": "markdown",
   "id": "brutal-cream",
   "metadata": {},
   "source": [
    "# 基本使用\n",
    "\n",
    "这是训练器的基本用法："
   ]
  },
  {
   "cell_type": "code",
   "execution_count": null,
   "id": "corporate-plastic",
   "metadata": {},
   "outputs": [],
   "source": [
    "model = MyLightningModule()\n",
    "\n",
    "trainer = Trainer()\n",
    "trainer.fit(model, train_dataloader, val_dataloader)"
   ]
  },
  {
   "cell_type": "markdown",
   "id": "chief-roulette",
   "metadata": {},
   "source": [
    "# 引擎盖下\n",
    "\n",
    "在幕后，Lightning Trainer 会为您处理训练循环的详细信息，一些示例包括：\n",
    "* 自动启用/禁用梯度\n",
    "* 运行训练、验证和测试数据加载器\n",
    "* 在适当的时间调用回调\n",
    "* 将批处理和计算放在正确的设备上\n",
    "\n",
    "这是训练器在幕后所做的伪代码（仅显示训练循环）"
   ]
  },
  {
   "cell_type": "code",
   "execution_count": null,
   "id": "double-classic",
   "metadata": {},
   "outputs": [],
   "source": [
    "# put model in train mode\n",
    "model.train()\n",
    "torch.set_grad_enabled(True)\n",
    "\n",
    "losses = []\n",
    "for batch in train_dataloader:\n",
    "    # calls hooks like this one\n",
    "    on_train_batch_start()\n",
    "\n",
    "    # train step\n",
    "    loss = training_step(batch)\n",
    "\n",
    "    # clear gradients\n",
    "    optimizer.zero_grad()\n",
    "\n",
    "    # backward\n",
    "    loss.backward()\n",
    "\n",
    "    # update parameters\n",
    "    optimizer.step()\n",
    "\n",
    "    losses.append(loss)"
   ]
  },
  {
   "cell_type": "markdown",
   "id": "coral-rover",
   "metadata": {},
   "source": [
    "# Python 脚本中的培训师\n",
    "\n",
    "在 Python 脚本中，建议您使用 main 函数来调用 Trainer。"
   ]
  },
  {
   "cell_type": "code",
   "execution_count": null,
   "id": "suburban-management",
   "metadata": {},
   "outputs": [],
   "source": [
    "from argparse import ArgumentParser\n",
    "\n",
    "\n",
    "def main(hparams):\n",
    "    model = LightningModule()\n",
    "    trainer = Trainer(gpus=hparams.gpus)\n",
    "    trainer.fit(model)\n",
    "\n",
    "\n",
    "if __name__ == \"__main__\":\n",
    "    parser = ArgumentParser()\n",
    "    parser.add_argument(\"--gpus\", default=None)\n",
    "    args = parser.parse_args()\n",
    "\n",
    "    main(args)"
   ]
  },
  {
   "cell_type": "markdown",
   "id": "going-domain",
   "metadata": {},
   "source": [
    "所以你可以像这样运行它："
   ]
  },
  {
   "cell_type": "code",
   "execution_count": null,
   "id": "declared-formation",
   "metadata": {},
   "outputs": [],
   "source": [
    "python main.py --gpus 2"
   ]
  },
  {
   "cell_type": "markdown",
   "id": "motivated-spyware",
   "metadata": {},
   "source": [
    "> 专业提示：您不需要手动定义所有标志。 PL可以自动添加它们"
   ]
  },
  {
   "cell_type": "code",
   "execution_count": null,
   "id": "single-brave",
   "metadata": {},
   "outputs": [],
   "source": [
    "from argparse import ArgumentParser\n",
    "\n",
    "\n",
    "def main(args):\n",
    "    model = LightningModule()\n",
    "    trainer = Trainer.from_argparse_args(args)\n",
    "    trainer.fit(model)\n",
    "\n",
    "\n",
    "if __name__ == \"__main__\":\n",
    "    parser = ArgumentParser()\n",
    "    parser = Trainer.add_argparse_args(parser)\n",
    "    args = parser.parse_args()\n",
    "\n",
    "    main(args)"
   ]
  },
  {
   "cell_type": "markdown",
   "id": "civilian-marina",
   "metadata": {},
   "source": [
    "所以你可以像这样运行它："
   ]
  },
  {
   "cell_type": "code",
   "execution_count": null,
   "id": "psychological-colleague",
   "metadata": {},
   "outputs": [],
   "source": [
    "python main.py --gpus 2 --max_steps 10 --limit_train_batches 10 --any_trainer_arg x"
   ]
  },
  {
   "cell_type": "markdown",
   "id": "lightweight-unemployment",
   "metadata": {},
   "source": [
    "> 如果您想提前停止训练运行，可以按键盘上的“Ctrl + C”。 训练器将捕获 KeyboardInterrupt 并尝试正常关闭，包括运行加速器回调 on_train_end 以清理内存。 在这种情况下，训练器对象还会将中断的属性设置为 True。 例如，如果您有关闭计算资源的回调，您可以有条件地运行关闭逻辑，仅用于不间断运行。"
   ]
  },
  {
   "cell_type": "markdown",
   "id": "loving-seating",
   "metadata": {},
   "source": [
    "# 验证\n",
    "\n",
    "您可以在训练循环之外使用 pytorch_lightning.trainer.trainer.Trainer.validate() 对验证集执行评估时期。 如果您想在模型初始化时或已经训练后从模型中收集新指标，这可能很有用。"
   ]
  },
  {
   "cell_type": "code",
   "execution_count": null,
   "id": "august-break",
   "metadata": {},
   "outputs": [],
   "source": [
    "trainer.validate(dataloaders=val_dataloaders)"
   ]
  },
  {
   "cell_type": "markdown",
   "id": "sound-northeast",
   "metadata": {},
   "source": [
    "# 测试\n",
    "\n",
    "完成训练后，请随时运行测试集！ （仅在发表论文或投入生产之前）"
   ]
  },
  {
   "cell_type": "code",
   "execution_count": null,
   "id": "corporate-hawaii",
   "metadata": {},
   "outputs": [],
   "source": [
    "trainer.test(test_dataloaders=test_dataloaders)"
   ]
  },
  {
   "cell_type": "markdown",
   "id": "responsible-retailer",
   "metadata": {},
   "source": [
    "# 再现性\n",
    "\n",
    "为了确保从运行到运行的完全可重复性，您需要为伪随机生成器设置种子，并在 Trainer 中设置确定性标志。\n",
    "\n",
    "例子："
   ]
  },
  {
   "cell_type": "code",
   "execution_count": null,
   "id": "selected-gambling",
   "metadata": {},
   "outputs": [],
   "source": [
    "from pytorch_lightning import Trainer, seed_everything\n",
    "\n",
    "seed_everything(42, workers=True)\n",
    "# 为 numpy、torch、python.random 和 PYTHONHASHSEED 设置种子。\n",
    "model = Model()\n",
    "trainer = Trainer(deterministic=True)"
   ]
  },
  {
   "cell_type": "markdown",
   "id": "spare-intellectual",
   "metadata": {},
   "source": [
    "通过在`seed_everything()` 中设置`workers=True`，Lightning 为torch、numpy 和stdlib 随机数生成器的所有数据加载器worker 和进程派生出唯一的种子。 当打开时，它确保例如 数据增强不会在工作人员之间重复。"
   ]
  },
  {
   "cell_type": "markdown",
   "id": "opponent-vampire",
   "metadata": {},
   "source": [
    "# Trainer flags\n",
    "\n",
    "## accelerator"
   ]
  },
  {
   "cell_type": "markdown",
   "id": "global-quest",
   "metadata": {},
   "source": [
    "要使用的加速器后端（以前称为分布式后端）。\n",
    "* ('dp') 是 DataParallel（在同一台机器的 GPU 之间拆分批次）\n",
    "* ('ddp') 是 DistributedDataParallel（每个节点上的每个 gpu 训练，并同步 grads）\n",
    "* ('ddp_cpu') 是 CPU 上的 DistributedDataParallel（与 'ddp' 相同，但不使用 GPU。用于多节点 CPU 训练或单节点调试。请注意，这不会在单节点上提供加速，因为 Torch 已经在一台机器上有效地利用了多个 CPU。）\n",
    "* ('ddp2') 节点上的 dp，节点间的 ddp。 对增加负样本数量等有用"
   ]
  },
  {
   "cell_type": "code",
   "execution_count": null,
   "id": "level-auction",
   "metadata": {},
   "outputs": [],
   "source": [
    "# 培训师使用的默认值\n",
    "trainer = Trainer(accelerator=None)"
   ]
  },
  {
   "cell_type": "markdown",
   "id": "stopped-quantum",
   "metadata": {},
   "source": [
    "例子："
   ]
  },
  {
   "cell_type": "code",
   "execution_count": null,
   "id": "existing-demonstration",
   "metadata": {},
   "outputs": [],
   "source": [
    "# dp = DataParallel\n",
    "trainer = Trainer(gpus=2, accelerator='dp')\n",
    "\n",
    "# ddp = DistributedDataParallel\n",
    "trainer = Trainer(gpus=2, num_nodes=2, accelerator='ddp')\n",
    "\n",
    "# ddp2 = DistributedDataParallel + dp\n",
    "trainer = Trainer(gpus=2, num_nodes=2, accelerator='ddp2')"
   ]
  },
  {
   "cell_type": "markdown",
   "id": "wound-relationship",
   "metadata": {},
   "source": [
    "> 此选项不适用于 TPU。 TPU 默认使用“ddp”（在每个核心上）"
   ]
  },
  {
   "cell_type": "markdown",
   "id": "super-capitol",
   "metadata": {},
   "source": [
    "您还可以通过对现有加速器进行子类化来修改硬件行为以适应您的需要。\n",
    "\n",
    "例子："
   ]
  },
  {
   "cell_type": "code",
   "execution_count": null,
   "id": "emotional-probe",
   "metadata": {},
   "outputs": [],
   "source": [
    "class MyOwnAcc(Accelerator):\n",
    "    ...\n",
    "\n",
    "Trainer(accelerator=MyOwnAcc())"
   ]
  },
  {
   "cell_type": "markdown",
   "id": "pursuant-physics",
   "metadata": {},
   "source": [
    "> 传入自定义加速器是实验性的，但正在进行工作以实现完全兼容性。"
   ]
  },
  {
   "cell_type": "markdown",
   "id": "deadly-bennett",
   "metadata": {},
   "source": [
    "## accumulate_grad_batches"
   ]
  },
  {
   "cell_type": "markdown",
   "id": "inclusive-regard",
   "metadata": {},
   "source": [
    "每 k 个批次或按照 dict 中的设置累积 grads。 Trainer 还为最后一个不可分割的步数调用 optimizer.step()。"
   ]
  },
  {
   "cell_type": "code",
   "execution_count": null,
   "id": "sacred-significance",
   "metadata": {},
   "outputs": [],
   "source": [
    "# default used by the Trainer (no accumulation)\n",
    "trainer = Trainer(accumulate_grad_batches=1)"
   ]
  },
  {
   "cell_type": "markdown",
   "id": "equal-expansion",
   "metadata": {},
   "source": [
    "例子："
   ]
  },
  {
   "cell_type": "code",
   "execution_count": null,
   "id": "applied-unknown",
   "metadata": {},
   "outputs": [],
   "source": [
    "# 每 4 个批次累积一次（有效批次大小为批次*4）\n",
    "trainer = Trainer(accumulate_grad_batches=4)\n",
    "\n",
    "# 第 1-4 轮没有积累。 在第 5-10 个时期累积 3。 之后累积 20\n",
    "trainer = Trainer(accumulate_grad_batches={5: 3, 10: 20})"
   ]
  },
  {
   "cell_type": "markdown",
   "id": "neutral-waste",
   "metadata": {},
   "source": [
    "## amp_backend"
   ]
  },
  {
   "cell_type": "markdown",
   "id": "bigger-vacuum",
   "metadata": {},
   "source": [
    "使用 PyTorch AMP（‘native’）（可用 PyTorch 1.6+）或 NVIDIA apex（‘apex’）。"
   ]
  },
  {
   "cell_type": "code",
   "execution_count": null,
   "id": "conscious-garbage",
   "metadata": {},
   "outputs": [],
   "source": [
    "# 使用 PyTorch 内置 AMP，Trainer 默认使用\n",
    "trainer = Trainer(amp_backend=\"native\")\n",
    "\n",
    "# 使用 NVIDIA Apex\n",
    "trainer = Trainer(amp_backend=\"apex\")"
   ]
  },
  {
   "cell_type": "markdown",
   "id": "living-dispatch",
   "metadata": {},
   "source": [
    "## amp_level"
   ]
  },
  {
   "cell_type": "markdown",
   "id": "organized-moore",
   "metadata": {},
   "source": [
    "用于 16 位 GPU 精度的优化级别（O1、O2 等）（在幕后使用 NVIDIA apex）。\n",
    "\n",
    "检查 NVIDIA apex 文档以了解级别\n",
    "\n",
    "例子："
   ]
  },
  {
   "cell_type": "code",
   "execution_count": null,
   "id": "proprietary-system",
   "metadata": {},
   "outputs": [],
   "source": [
    "# default used by the Trainer\n",
    "trainer = Trainer(amp_level='O2')"
   ]
  },
  {
   "cell_type": "markdown",
   "id": "ambient-implement",
   "metadata": {},
   "source": [
    "调用 tune 来查找批量大小## auto_scale_batch_size"
   ]
  },
  {
   "cell_type": "markdown",
   "id": "focused-clerk",
   "metadata": {},
   "source": [
    "在任何训练之前，自动尝试找到适合内存的最大批量大小。"
   ]
  },
  {
   "cell_type": "code",
   "execution_count": null,
   "id": "regular-router",
   "metadata": {},
   "outputs": [],
   "source": [
    "# Trainer 使用的默认值（不缩放批量大小）\n",
    "trainer = Trainer(auto_scale_batch_size=None)\n",
    "\n",
    "# 运行批量缩放，结果覆盖 hparams.batch_size\n",
    "trainer = Trainer(auto_scale_batch_size=\"binsearch\")\n",
    "\n",
    "# 调用 tune 来查找批量大小\n",
    "trainer.tune(model)"
   ]
  },
  {
   "cell_type": "markdown",
   "id": "nearby-politics",
   "metadata": {},
   "source": [
    "## auto_select_gpus"
   ]
  },
  {
   "cell_type": "markdown",
   "id": "lovely-voltage",
   "metadata": {},
   "source": [
    "如果启用并且 gpus 是一个整数，则自动选择可用的 gpus。 当 GPU 被配置为“独占模式”时，这尤其有用，这样一次只有一个进程可以访问它们。\n",
    "\n",
    "例子："
   ]
  },
  {
   "cell_type": "code",
   "execution_count": null,
   "id": "hairy-mainland",
   "metadata": {},
   "outputs": [],
   "source": [
    "# 没有自动选择（选择系统上的前 2 个 gpu，如果其他进程正在占用可能会失败）\n",
    "trainer = Trainer(gpus=2, auto_select_gpus=False)\n",
    "\n",
    "# 启用自动选择（将在系统上找到两个可用的 GPU）\n",
    "trainer = Trainer(gpus=2, auto_select_gpus=True)\n",
    "\n",
    "# 指定所有 GPU，无论其可用性如何\n",
    "Trainer(gpus=-1, auto_select_gpus=False)\n",
    "\n",
    "# 指定所有可用的GPU（如果只有一个GPU未被占用，则使用一个gpu）\n",
    "Trainer(gpus=-1, auto_select_gpus=True)"
   ]
  },
  {
   "cell_type": "markdown",
   "id": "orange-conviction",
   "metadata": {},
   "source": [
    "## auto_lr_find"
   ]
  },
  {
   "cell_type": "markdown",
   "id": "plain-meaning",
   "metadata": {},
   "source": [
    "在调用 trainer.tune() 时运行学习率查找算法（参见本文），以找到最佳初始学习率。"
   ]
  },
  {
   "cell_type": "code",
   "execution_count": null,
   "id": "magnetic-anaheim",
   "metadata": {},
   "outputs": [],
   "source": [
    "# 培训师使用的默认值（无学习率查找器）\n",
    "trainer = Trainer(auto_lr_find=False)"
   ]
  },
  {
   "cell_type": "markdown",
   "id": "known-boxing",
   "metadata": {},
   "source": [
    "例子："
   ]
  },
  {
   "cell_type": "code",
   "execution_count": null,
   "id": "dirty-distinction",
   "metadata": {},
   "outputs": [],
   "source": [
    "# 运行学习率查找器，结果覆盖 hparams.learning_rate\n",
    "trainer = Trainer(auto_lr_find=True)\n",
    "\n",
    "# 调用 tune 查找 lr\n",
    "trainer.tune(model)"
   ]
  },
  {
   "cell_type": "markdown",
   "id": "premium-street",
   "metadata": {},
   "source": [
    "例子："
   ]
  },
  {
   "cell_type": "code",
   "execution_count": null,
   "id": "enclosed-production",
   "metadata": {},
   "outputs": [],
   "source": [
    "# 运行学习率查找器，结果覆盖 hparams.my_lr_arg\n",
    "trainer = Trainer(auto_lr_find='my_lr_arg')\n",
    "\n",
    "# call tune to find the lr\n",
    "trainer.tune(model)"
   ]
  },
  {
   "cell_type": "markdown",
   "id": "eight-rotation",
   "metadata": {},
   "source": [
    "## benchmark"
   ]
  },
  {
   "cell_type": "markdown",
   "id": "valid-senegal",
   "metadata": {},
   "source": [
    "如果 true 启用 `cudnn.benchmark`。 如果您的输入大小不变，此标志可能会提高您的系统速度。 但是，如果确实如此，则可能会使您的系统变慢。\n",
    "\n",
    "加速来自允许 cudnn 自动调谐器为硬件找到最佳算法 [请参阅此处的讨论]。\n",
    "\n",
    "例子："
   ]
  },
  {
   "cell_type": "code",
   "execution_count": null,
   "id": "brutal-series",
   "metadata": {},
   "outputs": [],
   "source": [
    "# default used by the Trainer\n",
    "trainer = Trainer(benchmark=False)"
   ]
  },
  {
   "cell_type": "markdown",
   "id": "impressed-pendant",
   "metadata": {},
   "source": [
    "## deterministic"
   ]
  },
  {
   "cell_type": "markdown",
   "id": "applied-float",
   "metadata": {},
   "source": [
    "如果 true 启用 cudnn.deterministic。 可能会使您的系统变慢，但可确保重现性。 还设置 $HOROVOD_FUSION_THRESHOLD=0。\n",
    "\n",
    "有关更多信息，请查看 [pytorch 文档]。\n",
    "\n",
    "例子："
   ]
  },
  {
   "cell_type": "code",
   "execution_count": null,
   "id": "impressed-transfer",
   "metadata": {},
   "outputs": [],
   "source": [
    "# default used by the Trainer\n",
    "trainer = Trainer(deterministic=False)"
   ]
  },
  {
   "cell_type": "markdown",
   "id": "unavailable-spray",
   "metadata": {},
   "source": [
    "## callbacks"
   ]
  },
  {
   "cell_type": "markdown",
   "id": "transsexual-complaint",
   "metadata": {},
   "source": [
    "添加回调列表。 回调按此处定义的顺序依次运行，但 ModelCheckpoint 回调除外，它在所有其他回调之后运行以确保所有状态都保存到检查点。"
   ]
  },
  {
   "cell_type": "code",
   "execution_count": null,
   "id": "pleasant-bathroom",
   "metadata": {},
   "outputs": [],
   "source": [
    "# a list of callbacks\n",
    "callbacks = [PrintCallback()]\n",
    "trainer = Trainer(callbacks=callbacks)"
   ]
  },
  {
   "cell_type": "markdown",
   "id": "cooperative-insider",
   "metadata": {},
   "source": [
    "例子："
   ]
  },
  {
   "cell_type": "code",
   "execution_count": null,
   "id": "turned-office",
   "metadata": {},
   "outputs": [],
   "source": [
    "from pytorch_lightning.callbacks import Callback\n",
    "\n",
    "class PrintCallback(Callback):\n",
    "    def on_train_start(self, trainer, pl_module):\n",
    "        print(\"Training is started!\")\n",
    "    def on_train_end(self, trainer, pl_module):\n",
    "        print(\"Training is done.\")"
   ]
  },
  {
   "cell_type": "markdown",
   "id": "deluxe-scotland",
   "metadata": {},
   "source": [
    "也可以通过 configure_callbacks() 在 LightningModule 中添加特定于模型的回调。 此钩子中返回的回调将扩展最初提供给 Trainer 参数的列表，并在有两个或多个相同类型的情况下替换训练器回调。 ModelCheckpoint 回调总是最后运行。"
   ]
  },
  {
   "cell_type": "markdown",
   "id": "celtic-lending",
   "metadata": {},
   "source": [
    "## check_val_every_n_epoch"
   ]
  },
  {
   "cell_type": "markdown",
   "id": "suitable-substance",
   "metadata": {},
   "source": [
    "每 n 个训练周期检查一次 val。\n",
    "\n",
    "例子："
   ]
  },
  {
   "cell_type": "code",
   "execution_count": null,
   "id": "floral-plaintiff",
   "metadata": {},
   "outputs": [],
   "source": [
    "# default used by the Trainer\n",
    "trainer = Trainer(check_val_every_n_epoch=1)\n",
    "\n",
    "# 每 10 个训练周期运行一次 val 循环\n",
    "trainer = Trainer(check_val_every_n_epoch=10)"
   ]
  },
  {
   "cell_type": "markdown",
   "id": "presidential-malaysia",
   "metadata": {},
   "source": [
    "## checkpoint_callback"
   ]
  },
  {
   "cell_type": "markdown",
   "id": "universal-wound",
   "metadata": {},
   "source": [
    "默认情况下，Lightning 会在您当前的工作目录中为您保存一个检查点，以及您上次训练时期的状态，检查点会捕获模型使用的所有参数的确切值。 要禁用自动检查点，请将其设置为 False。"
   ]
  },
  {
   "cell_type": "code",
   "execution_count": null,
   "id": "solved-honduras",
   "metadata": {},
   "outputs": [],
   "source": [
    "# default used by Trainer\n",
    "trainer = Trainer(checkpoint_callback=True)\n",
    "\n",
    "# 关闭自动检查点\n",
    "trainer = Trainer(checkpoint_callback=False)"
   ]
  },
  {
   "cell_type": "markdown",
   "id": "intermediate-liability",
   "metadata": {},
   "source": [
    "您可以通过初始化 ModelCheckpoint 回调并将其添加到回调列表来覆盖默认行为。 有关如何自定义检查点，请参阅保存和加载权重。"
   ]
  },
  {
   "cell_type": "code",
   "execution_count": null,
   "id": "approved-encyclopedia",
   "metadata": {},
   "outputs": [],
   "source": [
    "from pytorch_lightning.callbacks import ModelCheckpoint\n",
    "\n",
    "# 初始化 ModelCheckpoint 回调，监控 'val_loss'\n",
    "checkpoint_callback = ModelCheckpoint(monitor=\"val_loss\")\n",
    "\n",
    "# 将您的回调添加到回调列表中\n",
    "trainer = Trainer(callbacks=[checkpoint_callback])"
   ]
  },
  {
   "cell_type": "markdown",
   "id": "imported-omaha",
   "metadata": {},
   "source": [
    "> 从 v1.1 开始不推荐将 ModelCheckpoint 实例传递给此参数，并且从 v1.3 开始不支持。 改用回调参数。"
   ]
  },
  {
   "cell_type": "markdown",
   "id": "casual-adrian",
   "metadata": {},
   "source": [
    "## default_root_dir"
   ]
  },
  {
   "cell_type": "markdown",
   "id": "alert-schema",
   "metadata": {},
   "source": [
    "当没有记录器或 pytorch_lightning.callbacks.ModelCheckpoint 回调通过时，日志和权重的默认路径。 在某些集群上，您可能希望将日志和检查点的存储位置分开。 如果你不这样做，那么为了方便起见，请使用这个参数。 路径可以是本地路径或远程路径，例如 s3://bucket/path 或 ‘hdfs://path/’。 需要设置凭据才能使用远程文件路径。"
   ]
  },
  {
   "cell_type": "code",
   "execution_count": null,
   "id": "orange-statement",
   "metadata": {},
   "outputs": [],
   "source": [
    "# default used by the Trainer\n",
    "trainer = Trainer(default_root_dir=os.getcwd())"
   ]
  },
  {
   "cell_type": "markdown",
   "id": "wrong-intelligence",
   "metadata": {},
   "source": [
    "## fast_dev_run"
   ]
  },
  {
   "cell_type": "markdown",
   "id": "unusual-small",
   "metadata": {},
   "source": [
    "如果设置为 n (int) 则运行 n 否则为 1 如果设置为 True batch(es) of train, val and test 以查找任何错误（即：一种单元测试）。\n",
    "\n",
    "在使用单个批处理运行 fast_dev_run 时，伪代码如下所示："
   ]
  },
  {
   "cell_type": "code",
   "execution_count": null,
   "id": "incorporated-times",
   "metadata": {},
   "outputs": [],
   "source": [
    "# loading\n",
    "__init__()\n",
    "prepare_data\n",
    "\n",
    "# test training step\n",
    "training_batch = next(train_dataloader)\n",
    "training_step(training_batch)\n",
    "\n",
    "# test val step\n",
    "val_batch = next(val_dataloader)\n",
    "out = validation_step(val_batch)\n",
    "validation_epoch_end([out])"
   ]
  },
  {
   "cell_type": "code",
   "execution_count": null,
   "id": "peripheral-certificate",
   "metadata": {},
   "outputs": [],
   "source": [
    "# default used by the Trainer\n",
    "trainer = Trainer(fast_dev_run=False)\n",
    "\n",
    "# 运行 1 个训练、验证、测试批次和程序结束\n",
    "trainer = Trainer(fast_dev_run=True)\n",
    "\n",
    "# 运行 7 个训练、验证、测试批次和程序结束\n",
    "trainer = Trainer(fast_dev_run=7)"
   ]
  },
  {
   "cell_type": "markdown",
   "id": "certain-regular",
   "metadata": {},
   "source": [
    "> 这个参数与 limit_train/val/test_batches 有点不同。 设置此参数将禁用调谐器、检查点回调、提前停止回调、记录器和记录器回调，如 LearningRateLogger 并且仅运行 1 个时期。 这必须仅用于调试目的。 limit_train/val/test_batches 只限制批次的数量，不会禁用任何东西。"
   ]
  },
  {
   "cell_type": "markdown",
   "id": "passive-wayne",
   "metadata": {},
   "source": [
    "## flush_logs_every_n_steps"
   ]
  },
  {
   "cell_type": "markdown",
   "id": "dutch-application",
   "metadata": {},
   "source": [
    "经常将日志写入磁盘。"
   ]
  },
  {
   "cell_type": "code",
   "execution_count": null,
   "id": "checked-cooperation",
   "metadata": {},
   "outputs": [],
   "source": [
    "# default used by the Trainer\n",
    "trainer = Trainer(flush_logs_every_n_steps=100)"
   ]
  },
  {
   "cell_type": "markdown",
   "id": "casual-rings",
   "metadata": {},
   "source": [
    "## gpus"
   ]
  },
  {
   "cell_type": "markdown",
   "id": "tracked-rapid",
   "metadata": {},
   "source": [
    "* 要训练的 GPU 数量 (int)\n",
    "* 或在哪些 GPU 上进行训练（列表）\n",
    "* 可以处理字符串"
   ]
  },
  {
   "cell_type": "code",
   "execution_count": null,
   "id": "secondary-paragraph",
   "metadata": {},
   "outputs": [],
   "source": [
    "# default used by the Trainer (ie: train on CPU)\n",
    "trainer = Trainer(gpus=None)\n",
    "\n",
    "# equivalent\n",
    "trainer = Trainer(gpus=0)"
   ]
  },
  {
   "cell_type": "markdown",
   "id": "quiet-present",
   "metadata": {},
   "source": [
    "例子："
   ]
  },
  {
   "cell_type": "code",
   "execution_count": null,
   "id": "noble-papua",
   "metadata": {},
   "outputs": [],
   "source": [
    "# int: 在 2 gpu 上训练\n",
    "trainer = Trainer(gpus=2)\n",
    "\n",
    "# list: 在 GPU 1、4 上训练（通过总线顺序）\n",
    "trainer = Trainer(gpus=[1, 4])\n",
    "trainer = Trainer(gpus='1, 4') # equivalent\n",
    "\n",
    "# -1: 在所有 gpu 上训练\n",
    "trainer = Trainer(gpus=-1)\n",
    "trainer = Trainer(gpus='-1') # equivalent\n",
    "\n",
    "# 结合 num_nodes 跨节点在多个 GPU 上进行训练，总共使用 8 个 GPU\n",
    "trainer = Trainer(gpus=2, num_nodes=4)\n",
    "\n",
    "# 仅在 GPU 1 和 4 上跨节点训练\n",
    "trainer = Trainer(gpus=[1, 4], num_nodes=4)"
   ]
  },
  {
   "cell_type": "markdown",
   "id": "bulgarian-singer",
   "metadata": {},
   "source": [
    "## gradient_clip_val"
   ]
  },
  {
   "cell_type": "markdown",
   "id": "parental-support",
   "metadata": {},
   "source": [
    "渐变剪裁值\n",
    "* 0 表示不剪辑。"
   ]
  },
  {
   "cell_type": "code",
   "execution_count": null,
   "id": "becoming-census",
   "metadata": {},
   "outputs": [],
   "source": [
    "# default used by the Trainer\n",
    "trainer = Trainer(gradient_clip_val=0.0)"
   ]
  },
  {
   "cell_type": "markdown",
   "id": "parental-watts",
   "metadata": {},
   "source": [
    "## limit_train_batches"
   ]
  },
  {
   "cell_type": "markdown",
   "id": "historic-basis",
   "metadata": {},
   "source": [
    "要检查多少训练数据集。 在调试或测试在 epoch 结束时发生的事情时很有用。"
   ]
  },
  {
   "cell_type": "code",
   "execution_count": null,
   "id": "technological-profile",
   "metadata": {},
   "outputs": [],
   "source": [
    "# default used by the Trainer\n",
    "trainer = Trainer(limit_train_batches=1.0)"
   ]
  },
  {
   "cell_type": "markdown",
   "id": "virtual-child",
   "metadata": {},
   "source": [
    "例子："
   ]
  },
  {
   "cell_type": "code",
   "execution_count": null,
   "id": "earned-buddy",
   "metadata": {},
   "outputs": [],
   "source": [
    "# default used by the Trainer\n",
    "trainer = Trainer(limit_train_batches=1.0)\n",
    "\n",
    "# 每个 epoch 只运行 25% 的训练集\n",
    "trainer = Trainer(limit_train_batches=0.25)\n",
    "\n",
    "# 每个 epoch 只运行 10 批训练集\n",
    "trainer = Trainer(limit_train_batches=10)"
   ]
  },
  {
   "cell_type": "markdown",
   "id": "insured-mountain",
   "metadata": {},
   "source": [
    "## limit_test_batches"
   ]
  },
  {
   "cell_type": "markdown",
   "id": "cardiovascular-enzyme",
   "metadata": {},
   "source": [
    "要检查多少测试数据集。"
   ]
  },
  {
   "cell_type": "code",
   "execution_count": null,
   "id": "decent-terror",
   "metadata": {},
   "outputs": [],
   "source": [
    "# 培训师使用的默认值\n",
    "trainer = Trainer(limit_test_batches=1.0)\n",
    "\n",
    "# 每个 epoch 只运行 25% 的测试集\n",
    "trainer = Trainer(limit_test_batches=0.25)\n",
    "\n",
    "# 仅运行 10 个批次\n",
    "trainer = Trainer(limit_test_batches=10)"
   ]
  },
  {
   "cell_type": "markdown",
   "id": "decent-static",
   "metadata": {},
   "source": [
    "在多个测试数据加载器的情况下，限制分别适用于每个数据加载器。"
   ]
  },
  {
   "cell_type": "markdown",
   "id": "coastal-commonwealth",
   "metadata": {},
   "source": [
    "## limit_val_batches"
   ]
  },
  {
   "cell_type": "markdown",
   "id": "registered-toner",
   "metadata": {},
   "source": [
    "要检查多少验证数据集。 在调试或测试在 epoch 结束时发生的事情时很有用。"
   ]
  },
  {
   "cell_type": "code",
   "execution_count": null,
   "id": "unlikely-excuse",
   "metadata": {},
   "outputs": [],
   "source": [
    "# default used by the Trainer\n",
    "trainer = Trainer(limit_val_batches=1.0)\n",
    "\n",
    "# 每个 epoch 只运行 25% 的验证集\n",
    "trainer = Trainer(limit_val_batches=0.25)\n",
    "\n",
    "# 仅运行 10 个批次\n",
    "trainer = Trainer(limit_val_batches=10)"
   ]
  },
  {
   "cell_type": "markdown",
   "id": "dense-colonial",
   "metadata": {},
   "source": [
    "在多个验证数据加载器的情况下，限制分别适用于每个数据加载器。"
   ]
  },
  {
   "cell_type": "markdown",
   "id": "photographic-modem",
   "metadata": {},
   "source": [
    "## log_every_n_steps"
   ]
  },
  {
   "cell_type": "markdown",
   "id": "naval-departure",
   "metadata": {},
   "source": [
    "添加记录行的频率（不写入磁盘）"
   ]
  },
  {
   "cell_type": "code",
   "execution_count": null,
   "id": "going-spouse",
   "metadata": {},
   "outputs": [],
   "source": [
    "# default used by the Trainer\n",
    "trainer = Trainer(log_every_n_steps=50)"
   ]
  },
  {
   "cell_type": "markdown",
   "id": "greek-bacteria",
   "metadata": {},
   "source": [
    "## log_gpu_memory"
   ]
  },
  {
   "cell_type": "markdown",
   "id": "introductory-thomas",
   "metadata": {},
   "source": [
    "选项：\n",
    "* None\n",
    "* ‘min_max’\n",
    "* ‘all’'"
   ]
  },
  {
   "cell_type": "code",
   "execution_count": null,
   "id": "republican-payroll",
   "metadata": {},
   "outputs": [],
   "source": [
    "# default used by the Trainer\n",
    "trainer = Trainer(log_gpu_memory=None)\n",
    "\n",
    "# 记录所有 GPU（仅在主节点上）\n",
    "trainer = Trainer(log_gpu_memory=\"all\")\n",
    "\n",
    "# 仅记录主节点上的最小和最大内存\n",
    "trainer = Trainer(log_gpu_memory=\"min_max\")"
   ]
  },
  {
   "cell_type": "markdown",
   "id": "acknowledged-gabriel",
   "metadata": {},
   "source": [
    "可能会降低性能，因为它使用 nvidia-smi 的输出。"
   ]
  },
  {
   "cell_type": "markdown",
   "id": "intense-manchester",
   "metadata": {},
   "source": [
    "## logger"
   ]
  },
  {
   "cell_type": "markdown",
   "id": "following-hunter",
   "metadata": {},
   "source": [
    "用于实验跟踪的记录器（或可迭代的记录器集合）。 True 值使用如下所示的默认 TensorBoardLogger。 False 将禁用日志记录。"
   ]
  },
  {
   "cell_type": "code",
   "execution_count": null,
   "id": "cultural-relay",
   "metadata": {},
   "outputs": [],
   "source": [
    "from pytorch_lightning.loggers import TensorBoardLogger\n",
    "\n",
    "# default logger used by trainer\n",
    "logger = TensorBoardLogger(save_dir=os.getcwd(), version=1, name=\"lightning_logs\")\n",
    "Trainer(logger=logger)"
   ]
  },
  {
   "cell_type": "markdown",
   "id": "numerous-removal",
   "metadata": {},
   "source": [
    "## max_epochs"
   ]
  },
  {
   "cell_type": "markdown",
   "id": "strange-shooting",
   "metadata": {},
   "source": [
    "一旦达到这个时期数就停止训练"
   ]
  },
  {
   "cell_type": "code",
   "execution_count": null,
   "id": "pretty-blair",
   "metadata": {},
   "outputs": [],
   "source": [
    "# default used by the Trainer\n",
    "trainer = Trainer(max_epochs=1000)"
   ]
  },
  {
   "cell_type": "markdown",
   "id": "nearby-avatar",
   "metadata": {},
   "source": [
    "## min_epochs"
   ]
  },
  {
   "cell_type": "markdown",
   "id": "protected-volunteer",
   "metadata": {},
   "source": [
    "至少要进行这么多 epoch 的强制训练"
   ]
  },
  {
   "cell_type": "code",
   "execution_count": null,
   "id": "level-timer",
   "metadata": {},
   "outputs": [],
   "source": [
    "# default used by the Trainer\n",
    "trainer = Trainer(min_epochs=1)"
   ]
  },
  {
   "cell_type": "markdown",
   "id": "hispanic-little",
   "metadata": {},
   "source": [
    "## max_steps"
   ]
  },
  {
   "cell_type": "markdown",
   "id": "exceptional-canadian",
   "metadata": {},
   "source": [
    "在达到此步数后停止训练 如果 max_steps 或 max_epochs 已达到（最早），则训练将停止。"
   ]
  },
  {
   "cell_type": "code",
   "execution_count": null,
   "id": "million-wildlife",
   "metadata": {},
   "outputs": [],
   "source": [
    "# Default (disabled)\n",
    "trainer = Trainer(max_steps=None)\n",
    "\n",
    "# Stop after 100 steps\n",
    "trainer = Trainer(max_steps=100)"
   ]
  },
  {
   "cell_type": "markdown",
   "id": "eight-messenger",
   "metadata": {},
   "source": [
    "## min_steps"
   ]
  },
  {
   "cell_type": "markdown",
   "id": "representative-cincinnati",
   "metadata": {},
   "source": [
    "强制训练至少这些步数。 Trainer 将训练模型至少 min_steps 或 min_epochs（最新）。"
   ]
  },
  {
   "cell_type": "code",
   "execution_count": null,
   "id": "aggressive-queen",
   "metadata": {},
   "outputs": [],
   "source": [
    "# Default (disabled)\n",
    "trainer = Trainer(min_steps=None)\n",
    "\n",
    "# Run at least for 100 steps (disable min_epochs)\n",
    "trainer = Trainer(min_steps=100, min_epochs=0)"
   ]
  },
  {
   "cell_type": "markdown",
   "id": "german-competition",
   "metadata": {},
   "source": [
    "## max_time"
   ]
  },
  {
   "cell_type": "markdown",
   "id": "significant-puzzle",
   "metadata": {},
   "source": [
    "设置训练的最长时间。 训练将在中期中断。 对于可自定义的选项，请使用 Timer 回调。"
   ]
  },
  {
   "cell_type": "code",
   "execution_count": null,
   "id": "alive-northwest",
   "metadata": {},
   "outputs": [],
   "source": [
    "# Default (disabled)\n",
    "trainer = Trainer(max_time=None)\n",
    "\n",
    "# 训练 12 小时后或达到 10 个时期时停止（字符串）\n",
    "trainer = Trainer(max_time=\"00:12:00:00\", max_epochs=10)\n",
    "\n",
    "# 1天5小时后停止（字典）\n",
    "trainer = Trainer(max_time={\"days\": 1, \"hours\": 5})"
   ]
  },
  {
   "cell_type": "markdown",
   "id": "major-spain",
   "metadata": {},
   "source": [
    "如果 max_time 与 min_steps 或 min_epochs 一起使用，则 min_* 要求始终具有优先权。"
   ]
  },
  {
   "cell_type": "markdown",
   "id": "awful-cisco",
   "metadata": {},
   "source": [
    "## num_nodes"
   ]
  },
  {
   "cell_type": "markdown",
   "id": "talented-currency",
   "metadata": {},
   "source": [
    "用于分布式训练的 GPU 节点数。"
   ]
  },
  {
   "cell_type": "code",
   "execution_count": null,
   "id": "popular-brooks",
   "metadata": {},
   "outputs": [],
   "source": [
    "# default used by the Trainer\n",
    "trainer = Trainer(num_nodes=1)\n",
    "\n",
    "# to train on 8 nodes\n",
    "trainer = Trainer(num_nodes=8)"
   ]
  },
  {
   "cell_type": "markdown",
   "id": "chronic-makeup",
   "metadata": {},
   "source": [
    "## num_processes"
   ]
  },
  {
   "cell_type": "markdown",
   "id": "reduced-switch",
   "metadata": {},
   "source": [
    "要训练的进程数。 使用accelerator=\"ddp\"时自动设置为GPU数量。 使用 Accelerator=\"ddp_cpu\" 在没有 GPU 的机器上模拟分布式训练时，设置为大于 1 的数字。 这对调试很有用，但不会提供任何加速，因为单进程 Torch 已经有效地利用了多个 CPU。"
   ]
  },
  {
   "cell_type": "code",
   "execution_count": null,
   "id": "peaceful-netherlands",
   "metadata": {},
   "outputs": [],
   "source": [
    "# Simulate DDP for debugging on your GPU-less laptop\n",
    "trainer = Trainer(accelerator=\"ddp_cpu\", num_processes=2)"
   ]
  },
  {
   "cell_type": "markdown",
   "id": "simplified-promise",
   "metadata": {},
   "source": [
    "## num_sanity_val_steps"
   ]
  },
  {
   "cell_type": "markdown",
   "id": "portuguese-honduras",
   "metadata": {},
   "source": [
    "在开始训练例程之前，健全性检查运行 n 批 val。 这可以捕获验证中的任何错误，而无需等待第一次验证检查。 训练器默认使用 2 个步骤。 在此处关闭或修改它。"
   ]
  },
  {
   "cell_type": "code",
   "execution_count": null,
   "id": "thorough-reputation",
   "metadata": {},
   "outputs": [],
   "source": [
    "# default used by the Trainer\n",
    "trainer = Trainer(num_sanity_val_steps=2)\n",
    "\n",
    "# turn it off\n",
    "trainer = Trainer(num_sanity_val_steps=0)\n",
    "\n",
    "# check all validation data\n",
    "trainer = Trainer(num_sanity_val_steps=-1)"
   ]
  },
  {
   "cell_type": "markdown",
   "id": "executed-manhattan",
   "metadata": {},
   "source": [
    "除非 num_sanity_val_steps=0，否则此选项将重置验证数据加载器。"
   ]
  },
  {
   "cell_type": "markdown",
   "id": "drawn-break",
   "metadata": {},
   "source": [
    "## overfit_batches"
   ]
  },
  {
   "cell_type": "markdown",
   "id": "honey-plaintiff",
   "metadata": {},
   "source": [
    "使用训练集的这么多数据。 如果非零，将使用相同的训练集进行验证和测试。 如果训练数据加载器有 shuffle=True，Lightning 会自动禁用它。\n",
    "\n",
    "用于快速调试或故意过度拟合。"
   ]
  },
  {
   "cell_type": "code",
   "execution_count": null,
   "id": "stretch-organizer",
   "metadata": {},
   "outputs": [],
   "source": [
    "# default used by the Trainer\n",
    "trainer = Trainer(overfit_batches=0.0)\n",
    "\n",
    "# 仅使用 1% 的训练集（并将训练集用于 val 和 test）\n",
    "trainer = Trainer(overfit_batches=0.01)\n",
    "\n",
    "# 在 10 个相同批次上过拟合\n",
    "trainer = Trainer(overfit_batches=10)"
   ]
  },
  {
   "cell_type": "markdown",
   "id": "smart-setup",
   "metadata": {},
   "source": [
    "## plugins"
   ]
  },
  {
   "cell_type": "markdown",
   "id": "expressed-mission",
   "metadata": {},
   "source": [
    "插件允许您连接任意后端、精确库、集群等。例如：\n",
    "* DDP\n",
    "* TorchElastic\n",
    "* Apex"
   ]
  },
  {
   "cell_type": "markdown",
   "id": "recognized-ladder",
   "metadata": {},
   "source": [
    "要定义您自己的行为，请子类化相关类并将其传入。这是链接您自己的 ClusterEnvironment 的示例。"
   ]
  },
  {
   "cell_type": "code",
   "execution_count": null,
   "id": "dressed-house",
   "metadata": {},
   "outputs": [],
   "source": [
    "from pytorch_lightning.plugins.environments import ClusterEnvironment\n",
    "\n",
    "\n",
    "class MyCluster(ClusterEnvironment):\n",
    "    def master_address(self):\n",
    "        return your_master_address\n",
    "\n",
    "    def master_port(self):\n",
    "        return your_master_port\n",
    "\n",
    "    def world_size(self):\n",
    "        return the_world_size\n",
    "\n",
    "\n",
    "trainer = Trainer(plugins=[MyCluster()], ...)"
   ]
  },
  {
   "cell_type": "markdown",
   "id": "developed-catch",
   "metadata": {},
   "source": [
    "## prepare_data_per_node"
   ]
  },
  {
   "cell_type": "markdown",
   "id": "bacterial-ethics",
   "metadata": {},
   "source": [
    "如果 True 将为每个节点在 LOCAL_RANK=0 上调用 prepare_data() 。 如果 False 只会从 NODE_RANK=0 调用，LOCAL_RANK=0"
   ]
  },
  {
   "cell_type": "code",
   "execution_count": null,
   "id": "assured-deadline",
   "metadata": {},
   "outputs": [],
   "source": [
    "# default\n",
    "Trainer(prepare_data_per_node=True)\n",
    "\n",
    "# use only NODE_RANK=0, LOCAL_RANK=0\n",
    "Trainer(prepare_data_per_node=False)"
   ]
  },
  {
   "cell_type": "markdown",
   "id": "aware-adams",
   "metadata": {},
   "source": [
    "## precision"
   ]
  },
  {
   "cell_type": "markdown",
   "id": "refined-sixth",
   "metadata": {},
   "source": [
    "Lightning 支持双精度 (64)、全精度 (32) 或半精度 (16) 训练。\n",
    "\n",
    "半精度或混合精度是结合使用 32 位和 16 位浮点来减少模型训练期间的内存占用。 这可以提高性能，在现代 GPU 上实现 3 倍的加速。"
   ]
  },
  {
   "cell_type": "code",
   "execution_count": null,
   "id": "structural-anime",
   "metadata": {},
   "outputs": [],
   "source": [
    "# default used by the Trainer\n",
    "trainer = Trainer(precision=32, gpus=1)\n",
    "\n",
    "# 16-bit precision\n",
    "trainer = Trainer(precision=16, gpus=1)\n",
    "\n",
    "# 64-bit precision\n",
    "trainer = Trainer(precision=64, gpus=1)"
   ]
  },
  {
   "cell_type": "markdown",
   "id": "regulation-albert",
   "metadata": {},
   "source": [
    "在 TPU 上运行时，将使用 torch.float16，但张量打印仍将显示 torch.float32。"
   ]
  },
  {
   "cell_type": "markdown",
   "id": "final-museum",
   "metadata": {},
   "source": [
    "CPU 不支持 16 位精度。"
   ]
  },
  {
   "cell_type": "markdown",
   "id": "rocky-motorcycle",
   "metadata": {},
   "source": [
    "> 使用 PYTORCH 1.6+ 时，Lightning 使用原生 AMP 实现来支持 16 位精度。 NVIDIA APEX 库支持 PYTORCH < 1.6 的 16 位精度。"
   ]
  },
  {
   "cell_type": "markdown",
   "id": "bronze-opening",
   "metadata": {},
   "source": [
    "## process_position"
   ]
  },
  {
   "cell_type": "markdown",
   "id": "interim-louisville",
   "metadata": {},
   "source": [
    "命令进度条。 在同一节点上运行多个训练器时很有用。"
   ]
  },
  {
   "cell_type": "code",
   "execution_count": null,
   "id": "indian-algorithm",
   "metadata": {},
   "outputs": [],
   "source": [
    "# default used by the Trainer\n",
    "trainer = Trainer(process_position=0)"
   ]
  },
  {
   "cell_type": "markdown",
   "id": "circular-magnet",
   "metadata": {},
   "source": [
    "> 如果将自定义回调传递给回调，则忽略此参数。"
   ]
  },
  {
   "cell_type": "markdown",
   "id": "impossible-peter",
   "metadata": {},
   "source": [
    "## profiler"
   ]
  },
  {
   "cell_type": "markdown",
   "id": "animated-nelson",
   "metadata": {},
   "source": [
    "在训练期间分析各个步骤并协助确定瓶颈。\n",
    "\n",
    "请参阅分析器文档。 更多细节。"
   ]
  },
  {
   "cell_type": "code",
   "execution_count": null,
   "id": "legal-affiliation",
   "metadata": {},
   "outputs": [],
   "source": [
    "from pytorch_lightning.profiler import SimpleProfiler, AdvancedProfiler\n",
    "\n",
    "# default used by the Trainer\n",
    "trainer = Trainer(profiler=None)\n",
    "\n",
    "# 分析标准训练事件，相当于`profiler=SimpleProfiler()`\n",
    "trainer = Trainer(profiler=\"simple\")\n",
    "\n",
    "# 函数级统计信息的高级分析器，相当于`profiler=AdvancedProfiler()`\n",
    "trainer = Trainer(profiler=\"advanced\")"
   ]
  },
  {
   "cell_type": "markdown",
   "id": "ancient-shannon",
   "metadata": {},
   "source": [
    "## progress_bar_refresh_rate"
   ]
  },
  {
   "cell_type": "markdown",
   "id": "advanced-crawford",
   "metadata": {},
   "source": [
    "刷新进度条的频率（按步骤）。"
   ]
  },
  {
   "cell_type": "code",
   "execution_count": null,
   "id": "through-bailey",
   "metadata": {},
   "outputs": [],
   "source": [
    "# default used by the Trainer\n",
    "trainer = Trainer(progress_bar_refresh_rate=1)\n",
    "\n",
    "# 禁用进度条\n",
    "trainer = Trainer(progress_bar_refresh_rate=0)"
   ]
  },
  {
   "cell_type": "markdown",
   "id": "meaningful-diagram",
   "metadata": {},
   "source": [
    "> * 在 Google Colab 笔记本中，已知更快的刷新率（较低的数字）会导致它们崩溃，因为它们的屏幕刷新率。 如果用户不提供值，Lightning 会在这些环境中将其设置为 20。\n",
    "> * 如果将自定义回调传递给回调，则忽略此参数。"
   ]
  },
  {
   "cell_type": "markdown",
   "id": "soviet-daniel",
   "metadata": {},
   "source": [
    "## reload_dataloaders_every_n_epochs"
   ]
  },
  {
   "cell_type": "markdown",
   "id": "crucial-adelaide",
   "metadata": {},
   "source": [
    "设置为正整数以每 n 个时期重新加载数据加载器。"
   ]
  },
  {
   "cell_type": "code",
   "execution_count": null,
   "id": "fifty-pierce",
   "metadata": {},
   "outputs": [],
   "source": [
    "# if 0 (default)\n",
    "train_loader = model.train_dataloader()\n",
    "for epoch in epochs:\n",
    "    for batch in train_loader:\n",
    "        ...\n",
    "\n",
    "# if a positive integer\n",
    "for epoch in epochs:\n",
    "    if not epoch % reload_dataloaders_every_n_epochs:\n",
    "        train_loader = model.train_dataloader()\n",
    "    for batch in train_loader:\n",
    "        ..."
   ]
  },
  {
   "cell_type": "markdown",
   "id": "expired-screw",
   "metadata": {},
   "source": [
    "## replace_sampler_ddp"
   ]
  },
  {
   "cell_type": "markdown",
   "id": "studied-bacon",
   "metadata": {},
   "source": [
    "启用 DistributedSampler 的自动添加。 在 PyTorch 中，您必须在分布式设置中使用它，例如 TPU 或多节点。 采样器确保每个 GPU 都能看到数据的适当部分。 默认情况下，它会为训练采样器添加 shuffle=True，为 val/test 采样器添加 shuffle=False。 如果你想自定义它，你可以设置replace_sampler_ddp=False并添加你自己的分布式采样器。 如果 replace_sampler_ddp=True 并且已经添加了分布式采样器，Lightning 不会替换现有的采样器。"
   ]
  },
  {
   "cell_type": "code",
   "execution_count": null,
   "id": "incomplete-assessment",
   "metadata": {},
   "outputs": [],
   "source": [
    "# default used by the Trainer\n",
    "trainer = Trainer(replace_sampler_ddp=True)"
   ]
  },
  {
   "cell_type": "markdown",
   "id": "little-printing",
   "metadata": {},
   "source": [
    "通过设置为 False，您必须添加自己的分布式采样器："
   ]
  },
  {
   "cell_type": "code",
   "execution_count": null,
   "id": "regional-belief",
   "metadata": {},
   "outputs": [],
   "source": [
    "# in your LightningModule or LightningDataModule\n",
    "def train_dataloader(self):\n",
    "    # default used by the Trainer\n",
    "    sampler = torch.utils.data.distributed.DistributedSampler(dataset, shuffle=True)\n",
    "    dataloader = DataLoader(dataset, batch_size=32, sampler=sampler)\n",
    "    return dataloader"
   ]
  },
  {
   "cell_type": "markdown",
   "id": "acquired-malta",
   "metadata": {},
   "source": [
    "> 对于可迭代数据集，我们不会自动执行此操作。"
   ]
  },
  {
   "cell_type": "markdown",
   "id": "verified-headset",
   "metadata": {},
   "source": [
    "## resume_from_checkpoint"
   ]
  },
  {
   "cell_type": "markdown",
   "id": "specific-devil",
   "metadata": {},
   "source": [
    "要从此处路径中的特定检查点通过恢复训练。 如果从中期检查点恢复，训练将从下一个 epoch 开始。"
   ]
  },
  {
   "cell_type": "code",
   "execution_count": null,
   "id": "coordinated-coverage",
   "metadata": {},
   "outputs": [],
   "source": [
    "# default used by the Trainer\n",
    "trainer = Trainer(resume_from_checkpoint=None)\n",
    "\n",
    "# 从特定检查点恢复\n",
    "trainer = Trainer(resume_from_checkpoint=\"some/path/to/my_checkpoint.ckpt\")"
   ]
  },
  {
   "cell_type": "markdown",
   "id": "acoustic-prescription",
   "metadata": {},
   "source": [
    "## sync_batchnorm"
   ]
  },
  {
   "cell_type": "markdown",
   "id": "casual-shade",
   "metadata": {},
   "source": [
    "在所有 GPU 上启用批处理归一化层之间的同步。"
   ]
  },
  {
   "cell_type": "code",
   "execution_count": null,
   "id": "indirect-drain",
   "metadata": {},
   "outputs": [],
   "source": [
    "trainer = Trainer(sync_batchnorm=True)"
   ]
  },
  {
   "cell_type": "markdown",
   "id": "combined-humidity",
   "metadata": {},
   "source": [
    "## track_grad_norm"
   ]
  },
  {
   "cell_type": "markdown",
   "id": "accessory-reminder",
   "metadata": {},
   "source": [
    "* 无跟踪 (-1)\n",
    "* 否则跟踪该范数（2 代表 2 范数）"
   ]
  },
  {
   "cell_type": "code",
   "execution_count": null,
   "id": "racial-position",
   "metadata": {},
   "outputs": [],
   "source": [
    "# default used by the Trainer\n",
    "trainer = Trainer(track_grad_norm=-1)\n",
    "\n",
    "# track the 2-norm\n",
    "trainer = Trainer(track_grad_norm=2)"
   ]
  },
  {
   "cell_type": "markdown",
   "id": "orange-participant",
   "metadata": {},
   "source": [
    "## tpu_cores"
   ]
  },
  {
   "cell_type": "markdown",
   "id": "dying-idaho",
   "metadata": {},
   "source": [
    "* 要在多少个 TPU 内核上进行训练（1 或 8 个）。\n",
    "* 在哪个 TPU 核心上训练 [1-8]"
   ]
  },
  {
   "cell_type": "markdown",
   "id": "imposed-childhood",
   "metadata": {},
   "source": [
    "单个 TPU v2 或 v3 具有 8 个内核。 一个 TPU pod 最多有 2048 个内核。 一片 POD 意味着您可以获得所需数量的内核。\n",
    "\n",
    "您的有效批量大小为 batch_size * tpu 核心总数。\n",
    "\n",
    "此参数可以是 1 或 8。\n",
    "\n",
    "例子："
   ]
  },
  {
   "cell_type": "code",
   "execution_count": null,
   "id": "wireless-robertson",
   "metadata": {},
   "outputs": [],
   "source": [
    "# your_trainer_file.py\n",
    "\n",
    "# default used by the Trainer (ie: train on CPU)\n",
    "trainer = Trainer(tpu_cores=None)\n",
    "\n",
    "# int: 在单核上训练\n",
    "trainer = Trainer(tpu_cores=1)\n",
    "\n",
    "# list: 在单个选定的核心上训练\n",
    "trainer = Trainer(tpu_cores=[2])\n",
    "\n",
    "# int: 在某些时候的核心上训练\n",
    "trainer = Trainer(tpu_cores=8)\n",
    "\n",
    "# 对于 8 个以上的内核，必须通过 xla 脚本提交，并指定最多 8 个内核。 \n",
    "# XLA 脚本会将脚本复制到 POD 中的每个 TPU 上\n",
    "trainer = Trainer(tpu_cores=8)"
   ]
  },
  {
   "cell_type": "markdown",
   "id": "precise-cathedral",
   "metadata": {},
   "source": [
    "要在超过 8 个内核（即：一个 POD）上进行训练，请使用 xla_dist 脚本提交此脚本。\n",
    "\n",
    "例子："
   ]
  },
  {
   "cell_type": "code",
   "execution_count": null,
   "id": "after-defensive",
   "metadata": {},
   "outputs": [],
   "source": [
    "python -m torch_xla.distributed.xla_dist\n",
    "--tpu=$TPU_POD_NAME\n",
    "--conda-env=torch-xla-nightly\n",
    "--env=XLA_USE_BF16=1\n",
    "-- python your_trainer_file.py"
   ]
  },
  {
   "cell_type": "markdown",
   "id": "rubber-exploration",
   "metadata": {},
   "source": [
    "## val_check_interval"
   ]
  },
  {
   "cell_type": "markdown",
   "id": "checked-rescue",
   "metadata": {},
   "source": [
    "在一个训练时期内检查验证集的频率。 可以指定为 float 或 int。\n",
    "* 使用 (float) 在训练时期内检查\n",
    "* 使用 (int) 检查每 n 步（批次）"
   ]
  },
  {
   "cell_type": "code",
   "execution_count": null,
   "id": "concerned-channels",
   "metadata": {},
   "outputs": [],
   "source": [
    "# default used by the Trainer\n",
    "trainer = Trainer(val_check_interval=1.0)\n",
    "\n",
    "# 在训练时期检查验证集 4 次\n",
    "trainer = Trainer(val_check_interval=0.25)\n",
    "\n",
    "# 当使用 iterableDataset 并且您的数据集没有长度（即：具有流数据的生产案例）时，\n",
    "# 每 1000 个训练批次检查验证集使用它\n",
    "trainer = Trainer(val_check_interval=1000)"
   ]
  },
  {
   "cell_type": "code",
   "execution_count": null,
   "id": "worldwide-desert",
   "metadata": {},
   "outputs": [],
   "source": [
    "# 这是估计一个时期内看到的批次总数的计算。\n",
    "\n",
    "# 查找训练批次的总数\n",
    "total_train_batches = total_train_samples // (train_batch_size * world_size)\n",
    "\n",
    "# 计算在训练循环期间我们将调用验证的次数\n",
    "val_check_batch = max(1, int(total_train_batches * val_check_interval))\n",
    "val_checks_per_epoch = total_train_batches / val_check_batch\n",
    "\n",
    "# 查找验证批次的总数\n",
    "total_val_batches = total_val_samples // (val_batch_size * world_size)\n",
    "\n",
    "# 运行的批次总数\n",
    "total_fit_batches = total_train_batches + total_val_batches"
   ]
  },
  {
   "cell_type": "markdown",
   "id": "numerous-indianapolis",
   "metadata": {},
   "source": [
    "## weights_save_path"
   ]
  },
  {
   "cell_type": "markdown",
   "id": "light-extraction",
   "metadata": {},
   "source": [
    "指定保存权重的位置的目录。"
   ]
  },
  {
   "cell_type": "code",
   "execution_count": null,
   "id": "exempt-twist",
   "metadata": {},
   "outputs": [],
   "source": [
    "# default used by the Trainer\n",
    "trainer = Trainer(weights_save_path=os.getcwd())\n",
    "\n",
    "# save to your custom path\n",
    "trainer = Trainer(weights_save_path=\"my/path\")"
   ]
  },
  {
   "cell_type": "markdown",
   "id": "favorite-invite",
   "metadata": {},
   "source": [
    "例子："
   ]
  },
  {
   "cell_type": "code",
   "execution_count": null,
   "id": "excessive-avenue",
   "metadata": {},
   "outputs": [],
   "source": [
    "# 如果使用检查点回调，则覆盖权重路径\n",
    "# **注意：这将权重保存到 some/path 而不是 my/path\n",
    "checkpoint = ModelCheckpoint(dirpath='some/path')\n",
    "trainer = Trainer(\n",
    "    callbacks=[checkpoint],\n",
    "    weights_save_path='my/path'\n",
    ")"
   ]
  },
  {
   "cell_type": "markdown",
   "id": "effective-performance",
   "metadata": {},
   "source": [
    "## weights_summary"
   ]
  },
  {
   "cell_type": "markdown",
   "id": "demanding-arlington",
   "metadata": {},
   "source": [
    "训练开始时打印权重摘要。 选项：‘full’, ‘top’, None.。"
   ]
  },
  {
   "cell_type": "code",
   "execution_count": null,
   "id": "powered-monthly",
   "metadata": {},
   "outputs": [],
   "source": [
    "# 培训师使用的默认值（即：打印顶级模块的摘要）\n",
    "trainer = Trainer(weights_summary=\"top\")\n",
    "\n",
    "# 打印所有模块和子模块的完整摘要\n",
    "trainer = Trainer(weights_summary=\"full\")\n",
    "\n",
    "# 不要打印摘要\n",
    "trainer = Trainer(weights_summary=None)"
   ]
  },
  {
   "cell_type": "markdown",
   "id": "valued-seattle",
   "metadata": {},
   "source": [
    "# Trainer类API"
   ]
  },
  {
   "cell_type": "markdown",
   "id": "optimum-brother",
   "metadata": {},
   "source": [
    "## 方法"
   ]
  },
  {
   "cell_type": "markdown",
   "id": "perceived-statement",
   "metadata": {},
   "source": [
    "### init"
   ]
  },
  {
   "cell_type": "markdown",
   "id": "significant-track",
   "metadata": {},
   "source": [
    "### fit"
   ]
  },
  {
   "cell_type": "markdown",
   "id": "structured-retro",
   "metadata": {},
   "source": [
    "### validate"
   ]
  },
  {
   "cell_type": "markdown",
   "id": "alpine-congo",
   "metadata": {},
   "source": [
    "### test"
   ]
  },
  {
   "cell_type": "markdown",
   "id": "contemporary-helena",
   "metadata": {},
   "source": [
    "### predict"
   ]
  },
  {
   "cell_type": "markdown",
   "id": "behind-promotion",
   "metadata": {},
   "source": [
    "### tune"
   ]
  },
  {
   "cell_type": "markdown",
   "id": "designing-adjustment",
   "metadata": {},
   "source": [
    "## 属性"
   ]
  },
  {
   "cell_type": "markdown",
   "id": "cubic-region",
   "metadata": {},
   "source": [
    "### callback_metrics\n",
    "\n",
    "可用于回调的指标。 这些是在您通过 self.log 登录时自动设置的"
   ]
  },
  {
   "cell_type": "code",
   "execution_count": null,
   "id": "homeless-performance",
   "metadata": {},
   "outputs": [],
   "source": [
    "def training_step(self, batch, batch_idx):\n",
    "    self.log(\"a_val\", 2)\n",
    "\n",
    "\n",
    "callback_metrics = trainer.callback_metrics\n",
    "assert callback_metrics[\"a_val\"] == 2"
   ]
  },
  {
   "cell_type": "markdown",
   "id": "potential-serve",
   "metadata": {},
   "source": [
    "### current_epoch"
   ]
  },
  {
   "cell_type": "markdown",
   "id": "informative-trail",
   "metadata": {},
   "source": [
    "现在的epoch"
   ]
  },
  {
   "cell_type": "code",
   "execution_count": null,
   "id": "induced-dependence",
   "metadata": {},
   "outputs": [],
   "source": [
    "def training_step(self, batch, batch_idx):\n",
    "    current_epoch = self.trainer.current_epoch\n",
    "    if current_epoch > 100:\n",
    "        # do something\n",
    "        pass"
   ]
  },
  {
   "cell_type": "markdown",
   "id": "double-combine",
   "metadata": {},
   "source": [
    "### logger (p)"
   ]
  },
  {
   "cell_type": "markdown",
   "id": "accompanied-oklahoma",
   "metadata": {},
   "source": [
    "当前正在使用的记录器。 这是一个使用tensorboard的例子"
   ]
  },
  {
   "cell_type": "code",
   "execution_count": null,
   "id": "impressed-thumbnail",
   "metadata": {},
   "outputs": [],
   "source": [
    "def training_step(self, batch, batch_idx):\n",
    "    logger = self.trainer.logger\n",
    "    tensorboard = logger.experiment"
   ]
  },
  {
   "cell_type": "markdown",
   "id": "obvious-beatles",
   "metadata": {},
   "source": [
    "### logged_metrics"
   ]
  },
  {
   "cell_type": "markdown",
   "id": "focal-syndicate",
   "metadata": {},
   "source": [
    "发送到记录器（可视化器）的指标。"
   ]
  },
  {
   "cell_type": "code",
   "execution_count": null,
   "id": "regulated-guarantee",
   "metadata": {},
   "outputs": [],
   "source": [
    "def training_step(self, batch, batch_idx):\n",
    "    self.log(\"a_val\", 2, log=True)\n",
    "\n",
    "\n",
    "logged_metrics = trainer.logged_metrics\n",
    "assert logged_metrics[\"a_val\"] == 2"
   ]
  },
  {
   "cell_type": "markdown",
   "id": "intermediate-japanese",
   "metadata": {},
   "source": [
    "### log_dir"
   ]
  },
  {
   "cell_type": "markdown",
   "id": "musical-victor",
   "metadata": {},
   "source": [
    "当前实验的目录。 使用它来保存图像，等等..."
   ]
  },
  {
   "cell_type": "code",
   "execution_count": null,
   "id": "passive-minister",
   "metadata": {},
   "outputs": [],
   "source": [
    "def training_step(self, batch, batch_idx):\n",
    "    img = ...\n",
    "    save_img(img, self.trainer.log_dir)"
   ]
  },
  {
   "cell_type": "markdown",
   "id": "cordless-silver",
   "metadata": {},
   "source": [
    "### is_global_zero"
   ]
  },
  {
   "cell_type": "markdown",
   "id": "neural-pizza",
   "metadata": {},
   "source": [
    "这个过程是否是多节点训练中的全局零"
   ]
  },
  {
   "cell_type": "code",
   "execution_count": null,
   "id": "loaded-mixture",
   "metadata": {},
   "outputs": [],
   "source": [
    "def training_step(self, batch, batch_idx):\n",
    "    if self.trainer.is_global_zero:\n",
    "        print(\"in node 0, accelerator 0\")"
   ]
  },
  {
   "cell_type": "markdown",
   "id": "answering-local",
   "metadata": {},
   "source": [
    "### progress_bar_metrics"
   ]
  },
  {
   "cell_type": "markdown",
   "id": "significant-dividend",
   "metadata": {},
   "source": [
    "发送到进度条的指标。"
   ]
  },
  {
   "cell_type": "code",
   "execution_count": null,
   "id": "talented-increase",
   "metadata": {},
   "outputs": [],
   "source": [
    "def training_step(self, batch, batch_idx):\n",
    "    self.log(\"a_val\", 2, prog_bar=True)\n",
    "\n",
    "\n",
    "progress_bar_metrics = trainer.progress_bar_metrics\n",
    "assert progress_bar_metrics[\"a_val\"] == 2"
   ]
  },
  {
   "cell_type": "code",
   "execution_count": null,
   "id": "introductory-westminster",
   "metadata": {},
   "outputs": [],
   "source": []
  }
 ],
 "metadata": {
  "kernelspec": {
   "display_name": "Python [conda env:pytorch]",
   "language": "python",
   "name": "conda-env-pytorch-py"
  },
  "language_info": {
   "codemirror_mode": {
    "name": "ipython",
    "version": 3
   },
   "file_extension": ".py",
   "mimetype": "text/x-python",
   "name": "python",
   "nbconvert_exporter": "python",
   "pygments_lexer": "ipython3",
   "version": "3.8.0"
  },
  "toc-autonumbering": true
 },
 "nbformat": 4,
 "nbformat_minor": 5
}
